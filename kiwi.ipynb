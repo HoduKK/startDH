{
 "cells": [
  {
   "cell_type": "code",
   "execution_count": 3,
   "id": "781cd46a-65cd-4d97-9f7e-ca494daecf05",
   "metadata": {},
   "outputs": [
    {
     "name": "stdout",
     "output_type": "stream",
     "text": [
      "Requirement already satisfied: kiwipiepy in c:\\programdata\\anaconda3\\lib\\site-packages (0.15.1)\n",
      "Requirement already satisfied: numpy in c:\\programdata\\anaconda3\\lib\\site-packages (from kiwipiepy) (1.21.5)\n",
      "Requirement already satisfied: tqdm in c:\\programdata\\anaconda3\\lib\\site-packages (from kiwipiepy) (4.64.1)\n",
      "Requirement already satisfied: kiwipiepy-model~=0.15 in c:\\programdata\\anaconda3\\lib\\site-packages (from kiwipiepy) (0.15.0)\n",
      "Requirement already satisfied: dataclasses in c:\\programdata\\anaconda3\\lib\\site-packages (from kiwipiepy) (0.6)\n",
      "Requirement already satisfied: colorama in c:\\programdata\\anaconda3\\lib\\site-packages (from tqdm->kiwipiepy) (0.4.5)\n"
     ]
    }
   ],
   "source": [
    "!pip install kiwipiepy"
   ]
  },
  {
   "cell_type": "code",
   "execution_count": 5,
   "id": "d1bc79a5-65e3-47bb-a627-1279be9a8065",
   "metadata": {},
   "outputs": [
    {
     "ename": "RuntimeError",
     "evalue": "[loadUserDictionary] Wrong dictionary format at line 1 : 안녕하세요. 제 이름은 김정수입니다.",
     "output_type": "error",
     "traceback": [
      "\u001b[1;31m---------------------------------------------------------------------------\u001b[0m",
      "\u001b[1;31mRuntimeError\u001b[0m                              Traceback (most recent call last)",
      "\u001b[1;32m~\\AppData\\Local\\Temp\\ipykernel_948\\774360318.py\u001b[0m in \u001b[0;36m<module>\u001b[1;34m\u001b[0m\n\u001b[0;32m      1\u001b[0m \u001b[1;32mfrom\u001b[0m \u001b[0mkiwipiepy\u001b[0m \u001b[1;32mimport\u001b[0m \u001b[0mKiwi\u001b[0m\u001b[1;33m\u001b[0m\u001b[1;33m\u001b[0m\u001b[0m\n\u001b[0;32m      2\u001b[0m \u001b[0mkiwi\u001b[0m \u001b[1;33m=\u001b[0m \u001b[0mKiwi\u001b[0m\u001b[1;33m(\u001b[0m\u001b[1;33m)\u001b[0m\u001b[1;33m\u001b[0m\u001b[1;33m\u001b[0m\u001b[0m\n\u001b[1;32m----> 3\u001b[1;33m \u001b[0mkiwi\u001b[0m\u001b[1;33m.\u001b[0m\u001b[0mload_user_dictionary\u001b[0m\u001b[1;33m(\u001b[0m\u001b[1;34m'user_dictionary.txt'\u001b[0m\u001b[1;33m)\u001b[0m\u001b[1;33m\u001b[0m\u001b[1;33m\u001b[0m\u001b[0m\n\u001b[0m\u001b[0;32m      4\u001b[0m \u001b[0mkiwi\u001b[0m\u001b[1;33m.\u001b[0m\u001b[0mprepare\u001b[0m\u001b[1;33m(\u001b[0m\u001b[1;33m)\u001b[0m\u001b[1;33m\u001b[0m\u001b[1;33m\u001b[0m\u001b[0m\n",
      "\u001b[1;32mC:\\ProgramData\\Anaconda3\\lib\\site-packages\\kiwipiepy\\_wrap.py\u001b[0m in \u001b[0;36mload_user_dictionary\u001b[1;34m(self, dict_path)\u001b[0m\n\u001b[0;32m    492\u001b[0m         '''\n\u001b[0;32m    493\u001b[0m \u001b[1;33m\u001b[0m\u001b[0m\n\u001b[1;32m--> 494\u001b[1;33m         \u001b[1;32mreturn\u001b[0m \u001b[0msuper\u001b[0m\u001b[1;33m(\u001b[0m\u001b[1;33m)\u001b[0m\u001b[1;33m.\u001b[0m\u001b[0mload_user_dictionary\u001b[0m\u001b[1;33m(\u001b[0m\u001b[0mdict_path\u001b[0m\u001b[1;33m)\u001b[0m\u001b[1;33m\u001b[0m\u001b[1;33m\u001b[0m\u001b[0m\n\u001b[0m\u001b[0;32m    495\u001b[0m \u001b[1;33m\u001b[0m\u001b[0m\n\u001b[0;32m    496\u001b[0m     def extract_words(self,\n",
      "\u001b[1;31mRuntimeError\u001b[0m: [loadUserDictionary] Wrong dictionary format at line 1 : 안녕하세요. 제 이름은 김정수입니다."
     ]
    }
   ],
   "source": [
    "from kiwipiepy import Kiwi\n",
    "kiwi = Kiwi()\n",
    "kiwi.load_user_dictionary('user_dictionary.txt')\n",
    "kiwi.prepare()"
   ]
  },
  {
   "cell_type": "code",
   "execution_count": 6,
   "id": "ba9cb4a2-81bb-4864-913a-2861fd18e1cb",
   "metadata": {},
   "outputs": [
    {
     "data": {
      "text/plain": [
       "<re.Match object; span=(0, 1), match='a'>"
      ]
     },
     "execution_count": 6,
     "metadata": {},
     "output_type": "execute_result"
    }
   ],
   "source": [
    "import re\n",
    "re.match('a','abc')"
   ]
  },
  {
   "cell_type": "code",
   "execution_count": 8,
   "id": "03a26c29-9f1c-4709-9623-98c6c537ec44",
   "metadata": {},
   "outputs": [
    {
     "data": {
      "text/plain": [
       "['c']"
      ]
     },
     "execution_count": 8,
     "metadata": {},
     "output_type": "execute_result"
    }
   ],
   "source": [
    "import re\n",
    "re.findall('c','csddfds')"
   ]
  },
  {
   "cell_type": "code",
   "execution_count": 9,
   "id": "50fb46c8-4820-4a10-95fb-a3c74974908c",
   "metadata": {},
   "outputs": [
    {
     "data": {
      "text/plain": [
       "'zb'"
      ]
     },
     "execution_count": 9,
     "metadata": {},
     "output_type": "execute_result"
    }
   ],
   "source": [
    "re.sub('a','z','ab')"
   ]
  },
  {
   "cell_type": "code",
   "execution_count": 10,
   "id": "eb029ce0-4a67-4840-8261-99a06a35998e",
   "metadata": {},
   "outputs": [
    {
     "data": {
      "text/plain": [
       "'zb'"
      ]
     },
     "execution_count": 10,
     "metadata": {},
     "output_type": "execute_result"
    }
   ],
   "source": [
    "import re\n",
    "re.sub('a','z','ab')"
   ]
  },
  {
   "cell_type": "code",
   "execution_count": 11,
   "id": "3c8afd11-f6d5-40d9-a4cf-29b34a7367c2",
   "metadata": {},
   "outputs": [
    {
     "ename": "NameError",
     "evalue": "name 'a' is not defined",
     "output_type": "error",
     "traceback": [
      "\u001b[1;31m---------------------------------------------------------------------------\u001b[0m",
      "\u001b[1;31mNameError\u001b[0m                                 Traceback (most recent call last)",
      "\u001b[1;32m~\\AppData\\Local\\Temp\\ipykernel_948\\2911331962.py\u001b[0m in \u001b[0;36m<module>\u001b[1;34m\u001b[0m\n\u001b[1;32m----> 1\u001b[1;33m \u001b[1;33m[\u001b[0m\u001b[0ma\u001b[0m\u001b[1;33m-\u001b[0m\u001b[0mv\u001b[0m\u001b[1;33m]\u001b[0m\u001b[1;33m\u001b[0m\u001b[1;33m\u001b[0m\u001b[0m\n\u001b[0m",
      "\u001b[1;31mNameError\u001b[0m: name 'a' is not defined"
     ]
    }
   ],
   "source": [
    "[a-v]"
   ]
  },
  {
   "cell_type": "code",
   "execution_count": 17,
   "id": "01e670f8-f34c-4e21-9032-a486afa9bae8",
   "metadata": {},
   "outputs": [],
   "source": [
    "sarang=open('사랑 손님과 어머니.txt', encoding = 'UTF-8').read()"
   ]
  },
  {
   "cell_type": "code",
   "execution_count": 137,
   "id": "ed64c290-4bb5-4029-8318-7a026732976a",
   "metadata": {},
   "outputs": [],
   "source": [
    "sarang = re.sub('[^가-힣]', ' ', sarang)"
   ]
  },
  {
   "cell_type": "code",
   "execution_count": 138,
   "id": "82f49bb3-b7d1-49b5-b376-ecb6c19a8259",
   "metadata": {},
   "outputs": [
    {
     "data": {
      "text/plain": [
       "'사랑 손님과 어머니  나는 금년 여섯 살 난 처녀애입니다  내 이름은 박옥희이고요  우리 집 식구라고는 세상에서 제일 이쁜 우리 어머니와 단 두 식구뿐이랍니다  아차  큰일났군  외삼촌을 빼놓을 뻔했으니    지금 중학교에 다니는 외삼촌은 어디를 그렇게 싸돌아다니는지  집에는 끼니 때 외에는 별로 붙어 있지 않아  어떤 때는 한 주일씩 가도 외삼촌 코빼기도 못 보는 때가 많으니까요  깜박 잊어버리기도 예사지요  무얼  우리 어머니는  그야말로 세상에서 둘도 없이 곱게 생긴 우리 어머니는  금년 나이 스물네 살인데 과부랍니다  과부가 무엇인지 나는 잘 몰라도  하여튼 동리 사람들이 날더러  과부 딸 이라고들 부르니까  우리 어머니가 과부인 줄을 알지요  남들은 다 아버지가 있는데  나만은 아버지가 없지요  아버지가 없다고 아마  과부 딸 이라나 봐요  외할머니 말씀을 들으면  우리 아버지는 내가 이 세상에 나오기 한 달 전에 돌아가셨대요  우리 어머니하고 결혼한 지는 일 년 만이고요  우리 아버지의 본집은 어디 멀리 있는데  마침 이 동리 학교에 교사로 오게 되었기 때문에  결혼 후에도 우리 어머니는 시집으로 가지 않고 여기 이 집을 사고  바로 이 집은 우리 외할머니 댁 옆집이지요   여기서 살다가 일 년이 못 되어 갑자기 돌아가셨대요  내가 세상에 나오기도 전에 아버지는 돌아가셨다니까  나는 아버지 얼굴도 못 뵈었지요  그러니 아무리 생각해 보아도 아버지 생각은 안 나요  아버지 사진이라는 사진은 나두 한두 번 보았지요  참으로 훌륭한 얼굴이야요  아버지가 살아 계신다면 참말로 이 세상에서 제일가는 잘난 아버지일 거야요  그런 아버지를 보지도 못한 것은 참으로 분한 일이야요  그 사진도 본 지가 퍽 오래 되었는데  이전에는 그 사진을 늘 어머니 책상 위에 놓아 두시더니  외할머니가 오시면 오실 때마다 그 사진을 치우라고 늘 말씀하셨는데  지금은 그 사진이 어디 있는지 없어졌어요  언젠가 한번 어머니가 나 없는 동안에 몰래 장롱 속에서 무엇을 꺼내 보시다가 내가 들어오니까 얼른 장롱 속에 감추는 것을 내가 보았는데  그게 아마 아버지 사진인 것 같았어요  아버지가 돌아가시기 전에 우리가 먹고 살 것을 남겨 놓고 가셨대요  작년 여름에  아니로군  가을이 다 되어서군요  하루는 어머니를 따라서 여기서 한 십 리나 가서 조그만 산이 있는 데를 가서 거기서 밤도 따 먹고  또 그 산 밑에 초가집에 가서 닭고깃국을 먹고 왔는데  거기 있는 땅이 우리 땅이래요  거기서 나는 추수로 밥이나 굶지 않게 된다고요  그래도 반찬 사고 과자 사고 할 돈은 없대요  그래서 어머니가 다른 사람의 바느질을 맡아서 해주지요  바느질을 해서 돈을 벌어서  그걸로 청어도 사고 달걀도 사고 내가 먹을 사탕도 사고 한다고요  그리고 우리 집 정말 식구는 어머니와 나와 단 둘뿐인데  아버님이 계시던 사랑방이 비어 있으니까 그 방도 쓸 겸  또 어머니의 잔심부름도 좀 해줄 겸 해서 우리 외삼촌이 사랑방에 와 있게 되었대요  금년 봄에는 나를 유치원에 보내 준다고 해서  나는 너무나 좋아서 동무아이들한테 실컷 자랑을 하고 나서 집으로 돌아오노라니까  사랑에서 큰외삼촌이  우리 집 사랑에 와 있는 외삼촌의 형님 말이야요   웬 한 낯선 사람 하나와 앉아서 이야기를 하고 있었습니다  큰외삼촌이 나를 보더니   옥희야   하고 부르겠지요   옥희야  이리 온  와서 아저씨께 인사드려라   나는 어째 부끄러워서 비실비실하니까 그 낯선 손님이   아  그 애기 참 곱다  자네 조카딸인가   하고 큰외삼촌더러 묻겠지요  그러니까 큰외삼촌은   응  내 누이의 딸    경선 군의 유복녀 외딸일세   하고 대답합니다   옥희야  이리 온  응  그 눈은 꼭 아버지를 닮았네그려   하고 낯선 사람이 말합니다   자  옥희야  커단 처녀가 왜 저 모양이야  어서 와서 이 아저씨께 인사드려라  너의 아버지의 옛날 친구신데  오늘부터 이 사랑에 계실 텐데 인사 여쭙고 친해 두어야지   나는 이 낯선 손님이 사랑방에 계시게 된다는 말을 듣고 갑자기 즐거워졌습니다  그래서 그 아저씨 앞에 가서 사붓이 절을 하고는 그만 안마당으로 뛰어들어왔지요  그 낯선 아저씨와 큰외삼촌은 소리 내서 크게 웃더군요  나는 안방으로 들어오는 나름으로 어머니를 붙들고   엄마  사랑에 큰외삼촌이 아저씨를 하나 데리고 왔는데에  그 아저씨가아 이제 사랑에 있는대   하고 법석을 하니까   응  그래   하고  어머니는 벌써 안다는 듯이 대수롭지 않게 대답을 하더군요  그래서 나는   언제부터 와 있나   하고 물으니까   오늘부텀    애구 좋아   하고 내가 손뼉을 치니까  어머니는 내 손을 꼭 붙잡으면서   왜 이리 수선이야    그럼 작은외삼촌은 어데루 가나    외삼촌도 사랑에 계시지    그럼 둘이 있나    응    한 방에 둘이 있어    왜 장지문 닫구 외삼촌은 아랫방에 계시구  그 아저씨는 윗방에 계시구  그러지   나는 그 아저씨가 어떠한 사람인지는 몰랐으나  첫날부터 내게는 퍽 고맙게 굴고  나도 그 아저씨가 꼭 마음에 들었어요  어른들이 저희끼리 말하는 것을 들으니까  그 아저씨는 돌아가신 우리 아버지와 어렸을 적 친구라고요  어디 먼 데 가서 공부를 하다가 요새 돌아왔는데  우리 동리 학교 교사로 오게 되었대요  또  우리 큰외삼촌과도 동무인데  이 동리에는 하숙도 별로 깨끗한 곳이 없고 해서 윗사랑으로 와 계시게 되었다고요  또 우리도 그 아저씨한테 밥값을 받으면 살림에 보탬도 좀 되고 한다고요  그 아저씨는 그림책들을 얼마든지 가지고 있어요  내가 사랑방으로 나가면 그 아저씨는 나를 무릎에 앉히고 그림책을 보여 줍니다  또  가끔 과자도 주고요  어느 날은 점심을 먹고 이내 살그머니 사랑에 나가 보니까  아저씨는 그때야 점심을 잡수셔요  그래 가만히 앉아서 점심 잡숫는 걸 구경하고 있노라니까 아저씨가   옥희는 어떤 반찬을 제일 좋아하누   하고 묻겠지요  그래 삶은 달걀을 좋아한다고 했더니  마침  상에 놓인 삶은 달걀을 한 알 집어 주면서 나더러 먹으라고 합니다  나는 그 달걀을 벗겨 먹으면서   아저씨는 무슨 반찬이 제일 맛나우   하고 물으니까  그는 한참이나 빙그레 웃고 있더니   나두 삶은 달걀   하겠지요  나는좋아서 손뼉을 짤깍짤깍 치고   아  나와 같네  그럼  가서 어머니한테 알려야지   하면서 일어서니까  아저씨가 꼭 붙들면서   그러지 말어   그러시겠지요  그래도  나는 한번 맘을 먹은 다음엔 꼭 그대로 하고야 마는 성미지요  그래서 안마당으로 뛰어들어가면서   엄마  엄마  사랑 아저씨두 나처럼 삶은 달걀을 제일 좋아한대   하고  소리를 질렀지요   떠들지 말어   하고  어머니는 눈을 흘기십니다  그러나 사랑 아저씨가 달걀을 좋아하는 것이 내게는 썩 좋게 되었어요  그것은 그 다음부터는 어머니가 달걀을 많이씩 사게 되었으니까요  달걀 장수 노파가 오면  한꺼번에 열 알도 사고 스무 알도 사고  그래선 두고두고 삶아서 아저씨 상에도 놓고  또 으레 나도 한 알씩 주고 그래요  그뿐만 아니라 아저씨한테 놀러 나가면  가끔 아저씨가 책상 서랍 속에서 달걀을 한두 알 꺼내서 먹으라고 주지요  그래  그 담부터는 나는 아주 실컷 달걀을 많이 먹었어요  나는 아저씨가 매우 좋았어요마는  외삼촌은 가끔 툴툴하는 때가 있었어요  아마 아저씨가 마음에 안 드나 봐요  아니  그것보다도 아저씨 잔심부름을 꼭 외삼촌이 하게 되니까  그것이 싫어서 그러나 봐요  한번은 어머니와 외삼촌이 말다툼하는 것까지 내가 들었어요  어머니가   야  또 어데 나가지 말구 사랑에 있다가 선생님 들어오시거든 상 내가야지   하고 말씀하시니까  외삼촌은 얼굴을 찡그리면서   제길  남 어디 좀 볼일이 있는 날은 으레 끼니 때에 안 들어오고 늦어지니     하고 툴툴하겠지요  그러니까 어머니는   그러니 어짜갔니  너밖에 사랑 출입할 사람이 어디 있니    누님이 좀 상 들구 나가구려  요새 세상에 내외합니까   어머니가 갑자기 얼굴이 발개지시고  아무 대답도 없이 그냥 외삼촌에게 향하여 눈을 흘기셨습니다  그러니까  외삼촌은 흥흥 웃으면서 사랑으로 나갔지요  나는 유치원에 가서 창가도 배우고 댄스도 배우고 하였습니다  유치원 여자 선생님이 풍금을 아주 썩 잘 타요  그런데  우리 유치원에 있는 풍금은 예배당에 있는 풍금과는 아주 다른데  퍽 조그마한 것이지마는 소리는 썩 좋아요  그런데 우리 집 윗간에도 유치원 풍금과 똑같이 생긴 것이 놓여 있는 것이 갑자기 생각이 났어요  그래  그 날 나는 집으로 오는 길로 어머니를 끌고 윗간으로 가서   엄마  이거 풍금 아니우   하고 물으니까  어머니는 빙그레 웃으시면서   그렇단다  그건 어찌 알았니    우리 유치원에 있는 풍금이 이것과 똑같은데 무얼  그럼  엄마두 풍금 탈 줄 아우   하고  나는 다시 물었습니다  그것은 내가 이때껏 한 번도 어머니가 풍금 앞에 앉은 것을 본 일이 없기 때문입니다  어머니는 아무 대답도 아니하십니다   엄마  이 풍금 좀 타 봐   하고 재촉하니까  어머니 얼굴은 약간 흐려지면서   그 풍금은 너의 아버지가 날 사다 주신 거란다  너의 아버지 돌아가신 후로 그 풍금은 이 때까지 뚜껑두 한번 안 열어 보았다     이렇게 말씀하시는 어머니 얼굴을 보니까 금방 또 울음보가 터질 것만 같아 보여서 나는 그만   엄마  나 사탕 주어   하면서 아랫방으로 끌고 내려왔습니다  아저씨가 사랑에 와 계신 지 벌써 여러 밤을 잔 뒤입니다  아마 한 달이나 되었지요  나는 거의 매일 아저씨 방에 놀러 갔습니다  어머니는 나더러 그렇게 가서 귀찮게 굴면 못쓴다고 가끔 꾸지람을 하시지만  정말이지 나는 조금도 아저씨를 귀찮게 굴지는 않았습니다  도리어 아저씨가 나를 귀찮게 굴었지요   옥희 눈이 아버지를 닮았다  고 고운 코는 아마 어머니를 닮았지  고 입하고  응  그러냐  안 그러냐  어머니도 옥희처럼 곱지  응   이렇게 여러 가지로 물을 적도 있습니다  그래서 나는   아저씨  새 우리 엄마 못 봤수   하고 물었더니  아저씨는 잠잠합니다  그래 나는   우리 엄마 보러 들어갈까   하면서 아저씨 소매를 잡아당겼더니  아저씨는 펄쩍 뛰면서   아니  아니  안 돼  난 지금 분주해   하면서 나를 잡아끌었습니다  그러나 정말로는 무어 그리 분주하지도 않은 모양이었어요  그러기에 나더러 가란 말도 않고 그냥 나를 붙들고 앉아서  머리도 쓰다듬어 주고 뺨에 입도 맞추고 하면서   요 저고리 누가 해주지    밤에 엄마하구 한 자리에서 자니   하는 등 쓸데없는 말을 자꾸만 물었지요  그러나 웬일인지 나를 그렇게도 귀여워해 주던 아저씨도 아랫방에 외삼촌이 들어오면 갑자기 태도가 달라지지요  이것저것 묻지도 않고  나를 껴안지도 않고 점잖게 앉아서 그림책이나 보여 주고 그러지요  아마 아저씨가 우리 외삼촌을 무서워하나 봐요  하여튼 어머니는 나더러 너무 아저씨를 귀찮게 한다고  어떤 때는 저녁 먹고 나서 나를 방 안에 가두어 두고 못 나가게 하는 때도 더러 있었습니다  그러나 조금 있다가 어머니가 바느질에 정신이 팔려서 골몰하고 있을 때 몰래 가만히 일어나서 나오지요  그런 때에는 어머니가 내가 문 여는 소리를 듣고서야 퍼뜩 정신을 차려서 쫓아와 나를 붙들지요  그러나 그런 때는 어머니는 골을 아니 내시고   이리 온  이리 와서 머리 빗고     하고  끌어다가 머리를 다시 곱게 땋아 주시지요   머리를 곱게 땋고 가야지  그렇게 되는 대루 하구 가문 아저씨가 숭 보시지 않니   하시면서 또 어떤 때에는 머리를 다 땋아 주시고는   응  저고리가 이게 무어야   하시면서  새 저고리를 내어 주시는 때도 있습니다  어떤 토요일 오후였습니다  아저씨는 나더러 뒷동산에 올라가자고 하셨습니다  나는 너무나 좋아서 가자고 그러니까 아저씨가   들어가서 어머니께 허락받고 온   하십니다  참 그렇습니다  나는 뛰어들어가서 어머니께 허락을 받았습니다  어머니는 내 얼굴을 다시 세수시켜 주고 머리도 다시 땋고  그리고 나서는 나를 아스러지도록 한 번 몹시 껴안았다가 놓아 주었습니다   너무 오래 있지 말고  응   하고 어머니는 크게 소리치셨습니다  아마 사랑 아저씨도 그 소리를 들었을 거야요  뒷동산에 올라가서는 정거장을 한참 내려다보았으나  기차는 안 지나갔습니다  나는 풀잎을 쭉쭉 뽑아 보기도 하고 땅에 누운 아저씨의 다리를 꼬집어 보기도 하면서 놀았습니다  한참 후에 아저씨와 손목을 잡고 내려오는데 유치원 동무들을 만났습니다   옥희가 아빠하구 어디 갔다 온다  응   하고  한 동무가 말하였습니다  그 아이는 우리 아버지가 돌아가신 줄을 모르는 아이였습니다  나는 얼굴이 빨개졌습니다  그 때 나는 얼마나  이 아저씨가 정말 우리 아버지였더라면 하고 생각했는지 모릅니다  나는 정말로 한 번만이라도   아빠   하고 불러 보고 싶었습니다  그리고 그 날 그렇게 아저씨하고 손목을 잡고 골목을 지나오는 것이 어찌도 재미가 좋았는지요  나는 대문까지 와서   난 아저씨가 우리 아빠래문 좋겠다   하고 불쑥 말해 버렸습니다  그랬더니  아저씨는 얼굴이 홍당무처럼 빨개져서 나를 몹시 흔들면서   그런 소리하문 못써   하고 말하는데  그 목소리가 몹시도 떨렸습니다  나는 아저씨가 몹시 성이 난 것처럼 보여서 아무 말도 못 하고 안으로 뛰어들어갔습니다  어머니가   어디까지 갔던   하고 나와 안으며 묻는데  나는 대답도 못 하고 그만 훌쩍훌쩍 울었습니다  어머니는 놀라서   옥희야  왜 그러니   하고 자꾸만 물었으나  나는 아무 대답도 못 하고 울기만 했습니다  이튿날은 일요일이어서  나는 어머니와 함께 예배당에를 가려고 차리고 나서  어머니가 옷을 갈아입는 동안 잠깐 사랑에를 나가 보았습니다   아저씨가 아직두 성이 났나   하고 가만히 방 안을 들여다보았더니  책상에 앉아서 무엇을 쓰고 있던 아저씨가 내다보면서 빙그레 웃었습니다  그 웃음을 보고 나는 마음을 놓았습니다  아저씨가 지금은 성이 풀린 것이 확실하니까요  아저씨는 나를 이리 보고 저리 보고 훑어보더니   옥희 오늘 어디 가노  저렇게 곱게 채리구   하고 물었습니다   엄마하고 예배당에 가    예배당에   하고 나서  아저씨는 잠시 나를 멍하니 바라다보더니   어느 예배당에   하고 물었습니다   요 앞에 예배당에 가지  뭐    응  요 앞이라니   이 때 안에서   옥희야   하고 부드럽게 부르는 어머니 목소리가 들렸습니다  나는 얼른 안으로 뛰어들어오면서 돌아다보니까  아저씨는 또 얼굴이 빨갛게 성이 났겠지요  내 원  참으로 무슨 일로 요새는 아저씨가 그렇게 성을 잘 내는지 알 수 없었습니다  예배당에 가서 찬미하고 기도하다가 기도하는 중간에 갑자기 나는  혹시 아저씨두 예배당에 오지 않았나   하는 생각이 나서 눈을 뜨고 고개를 들어 남자석을 바라다보았습니다  그랬더니 하  바로 거기에 아저씨가 와 앉아 있겠지요  그런데 아저씨는 어른이면서도 눈 감고 기도하지 않고  우리 아이들처럼 눈을 번히 뜨고 여기저기 두리번두리번 바라봅니다  나는 얼른 아저씨를 알아보았는데 아저씨는 나를 못 알아보았는지  내가 빙그레 웃어 보여도 웃지도 않고 멀거니 보고만 있겠지요  그래  나는 손을 흔들었지요  그러니까 아저씨는 얼른 고개를 숙이고 말더군요  그 때  어머니가 내가 팔 흔드는 것을 깨닫고 두 손으로 나를 붙들고 끌어당기더군요  나는 어머니 귀에다 입을 대고   저기 아저씨두 왔어   하고 속삭이니까  어머니는 흠칫하면서 내 입을 손으로 막고 막 잡아 끌어다가 옆에 앉히고 고개를 누르더군요  보니까 어머니도 얼굴이 홍당무처럼 빨개졌더군요  그 날 예배는 아주 젬병이었지요  웬일인지  예배가 다 끝날 때까지 어머니는 성이 나서 강대만 향하여 앞으로 바라보고 앉았고  이전 모양으로 가끔 나를 내려다보고 웃는 일이 없었어요  그리고 아저씨를 보려고 남자석을 바라다보아도 아저씨도 한 번도 바라다보아 주지도 않고 성이 나서 앉아 있고  어머니도 나를 보지도 않고 공연히 꽉꽉 잡아당기지요  왜 모두들 그리 성이 났는지    나는 그만 으악 하고 한번 울고 싶었어요  그러나 바로 멀지 않은 곳에 우리 유치원 선생님이 앉아 있어서 울고 싶은 것을 아주 억지로 참았습니다  내가 유치원에 입학한 후  처음 얼마 동안은 유치원에 갈 때나 올 때나 외삼촌이 바래다 주었습니다  그러나 여러 밤을 자고 난 뒤에는 나 혼자서도 넉넉히 다니게 되었어요  그러나 언제나 내가 유치원에서 돌아오는 때이면 어머니가 옆대문  우리 집에는 대문이 사랑 대문과 옆 대문 둘이 있어서 어머니는 늘 이 옆 대문으로만 출입하시는 것이었습니다   밖에 기다리고 섰다가 내가 달음질쳐 가면  안고 집안으로 들어가곤 하는 것이었습니다  그런데 하루는 어쩐 일인지 어머니가 대문 가에 보이지를 않겠지요  어떻게도 화가 나던지요  물론 머릿속으로는  아마 외할머니 댁에 가셨나 부다   하고 생각했지마는  하여튼 내가 돌아왔는데 문간에서 기다리지 않고 집을 떠났다는 것이 몹시 나쁘게 생각되더군요  그래서 속으로  오늘 엄마를 좀 골려야겠다   하고 생각하고 있는데 옆 대문 밖에서   아이고  애가 원 벌써 왔나   하고 어머니 목소리가 들리더군요  그 순간 나는 얼른 신을 벗어 들고 안방으로 뛰어들어가서 벽장문을 열고  그 속에 들어가서 숨어 버렸습니다   옥희야  옥희 너  여태 안 왔니   하는 어머니 목소리가 바로 뜰에서 나더니   여태 안 왔군   하면서 밖으로 나가는 모양이었습니다  나는 재미가 나서 혼자 흐흥흐흥 웃었습니다  한참을 있더니 집에는 온통 야단이 났습니다  어머니 목소리도 들리고  외할머니 목소리도 들리고  외삼촌 목소리도 들리고     글쎄 하루 종일 집이라군 안 떠났다가 옥희 유치원 파하구 오문  멕일 과자가 없기에 어머님 댁에 잠깐 갔다왔는데  고 동안에 이런 변이 생긴걸     하는 것은 어머니 목소리   글쎄  유치원에서 벌써 이십 분 전에 떠났다는데 원 중간에서     하는 것은 외할머니 목소리   하여튼 내 나가서 돌아댕겨 볼웨다  원 고것이 어델 갔담   하는 것은 외삼촌의 목소리  이윽고 어머니의 울음소리가 가늘게 들렸습니다  외할머니는 무어라고 중얼중얼 이야기하는 모양이었습니다   이젠 그만하고 나갈까   하고도 생각했으나   지난 주일날 예배당에서 성냈던 앙갚음을 해야지   하는 생각이 나서 나는 그냥 벽장 안에 누워 있었습니다  벽장 안은 답답하고 더웠습니다  그래서  이윽고 부지중에 나는 슬며서 잠이 들고 말았습니다  얼마 동안이나 잤는지요  이윽고 잠을 깨어 보니까 아까 내가 벽장 안으로 들어왔던 것을 잊어버리고  참 이상스러운 데에 내가 누워 있거든요  어두컴컴하고 좁고 덥고    나는 갑자기 무서운 생각이 나서 엉엉 울기 시작했지요  그러자 갑자기 어디 가까운 데서 어머니의 외마디 소리가 나더니 벽장문이 벌컥 열리고 어머니가 달려들어서 나를 안아 내렸습니다   요 망할 것아   하면서  어머니가 내 엉덩이를 댓 번 때렸습니다  나는 더욱더 소리를 내서 울었습니다  그 때 어머니는 나를 끌어안고 어머니도 따라 울었습니다   옥희야  옥희야  응  인제 괜찮다  엄마 여기 있지 않니  응  울지 마라  옥희야  엄마는 옥희 하나문 그뿐이다  옥희 하나만 바라구 산다  난 너 하나문 그뿐이야  세상 다 일이 없다  옥희만 있으면 엄마는 산다  옥희야 응  울지 말라 응  울지 마라   이렇게 어머니는 나더러 자꾸 울지 말라고 하면서도 어머니는 그치지 않고 자꾸자꾸 울었습니다  외할머니는   원 고것이 도깨비가 들렸단 말인가  벽장 속에 왜 숨는담   하고 앉아 있고  외삼촌은   에  재수 메유다   하면서 밖으로 나갔습니다  이튿날 유치원을 파하고 집으로 오면서  나는 갑자기 어제 벽장 속에 숨었다가 어머니를 몹시 울게 했던 생각이 나서 집으로 돌아가기가 어째 부끄러워졌습니다   오늘은 어머니를 좀 기쁘게 해 드려야 할 텐데    무엇을 갖다 드리면 기뻐할까   하고 생각하였습니다  그러자 문득 유치원 안의 선생님 책상 위에 놓여 있던 꽃병 생각이 났습니다  그 꽃은 개나리도 아니고  진달래도 아니었습니다  그런 꽃은 나도 잘 알고  또 그런 꽃은 벌써 피었다가 져 버린 후였습니다  무슨 서양꽃이려니 하고 나는 생각하였습니다  나는 우리 어머니가 꽃을 사랑하는 줄을 잘 압니다  그래서 그 꽃을 갖다가 드리면 어머니가 몹시 기뻐하려니 하고 생각하였습니다  그래서 나는 도로 유치원 방 안으로 들어갔습니다  마침 방 안에는 아무도 없었습니다  선생님도 잠깐 어디를 가셨는지 보이지 않았습니다  그래  나는 그 꽃을 두어 개 얼른 빼들고 달음질쳐 나왔지요  집에 오니 어머니는 문간에 기다리고 있다가 나를 안고 들어갔습니다   그 꽃은 어디서 났니  퍽 곱구나   하고 어머니가 말씀하셨습니다  그러나 나는 갑자기 말문이 막혔습니다   이걸 엄마 드릴라구 유치원서 가져왔어   하고 말하기가 어째 몹시 부끄러운 생각이 들었습니다  그래  잠깐 망설이다가   응  이 꽃  저  사랑 아저씨가 엄마 갖다 주라고 줘   하고 불쑥 말했습니다  그런 거짓말이 어디서 그렇게 툭 튀어나왔는지 나도 모르지요  꽃을 들고 냄새를 맡고 있던 어머니는 내 말이 끝나기가 무섭게 무엇에 몹시 놀란 사람처럼 화닥닥하였습니다  그리고는  금시에 어머니 얼굴이 그 꽃보다 더 빨갛게 되었습니다  그 꽃을 든 어머니 손가락이 파르르 떠는 것을 나는 보았습니다  어머니는 무슨 무서운 것을 생각하는 듯이 방 안을 휘 한 번 둘러보시더니   옥희야  그런 걸 받아 오문 안 돼   하고 말하는 목소리는 몹시 떨렸습니다  나는 꽃을 그렇게도 좋아하는 어머니가  이 꽃을 받고 그처럼 성을 낼 줄은 참으로 뜻밖이었습니다  어머니가 그렇게도 성을 내는 것을 보니까  그 꽃을 내가 가져왔다고 그러지 않고  아저씨가 주더라고 거짓말을 한 것이 참 잘 되었다고 나는 속으로 생각했습니다  어머니가 성을 내는 까닭을 나는 모르지만  하여튼 성을 낼 바에는 내게 내는 것보다 아저씨에게 내는 것이 내게는 나았기 때문입니다  한참 있더니 어머니는 나를 방 안으로 데리고 들어와서   옥희야  너 이 꽃 얘기 아무보구두 하지 말아라  응   하고 타일러 주었습니다  나는   응   하고 대답하면서 고개를 여러 번 까닥까닥했습니다  어머니가 그 꽃을 곧 내버릴 줄로 나는 생각했습니다마는  내버리지 않고 꽃병에 꽂아서 풍금 위에 놓아 두었습니다  아마 퍽 여러 밤 자도록 그 꽃은 거기 놓여 있어서 마지막에는 시들었습니다  꽃이 다 시들자 어머니는 가위로 그 대를 잘라내 버리고  꽃만은 찬송가 갈피에 곱게 끼워 두었습니다  내가 어머니께 꽃을 갖다 주던 날 밤에  나는 또 사랑에 놀러 나가서 아저씨 무릎에 앉아서 그림책을 보고 있었습니다  갑자기 아저씨 몸이 흠칫하였습니다  그리고는 귀를 기울입니다  나도 귀를 기울였습니다  풍금 소리  그 풍금 소리는 분명 안방에서 흘러나오는 것이었습니다   엄마가 풍금을 타나 부다   하고  나는 벌떡 일어나서 안으로 뛰어왔습니다  안방에는 불을 켜지 않았습니다  그러나 그 때는 음력으로 보름께나 되어서 달이 낮같이 밝은데 은빛 같은 흰 달빛이 방 한 절반 가득히 차 있었습니다  나는 그 흰옷을 입은 어머니가 풍금 앞에 앉아서 고요히 풍금을 타는 것을 보았습니다  나는 나이 지금 여섯 살밖에 안 되었지마는  하여튼 어머니가 풍금을 타시는 것을 보는 것은 오늘이 처음이었습니다  어머니는 우리 유치원 선생님보다도 풍금을 더 잘 타시는 것이었습니다  나는 어머니 곁으로 갔습니다마는  어머니는 내가 곁에 온 것도 깨닫지 못하는지 그냥 까딱 아니하고 앉아서 풍금을 탔습니다  조금 있더니 어머니는 풍금 곡조에 맞추어 노래를 부르기 시작하였습니다  어머니의 목소리가 그렇게 아름다운 것도 나는 이 때까지 모르고 있었습니다  어머니는 참으로 우리 유치원 선생님보다도 목소리가 훨씬 더 곱고  또 노래도 훨씬 더 잘 부르시는 것이었습니다  나는 가만히 서서 어머니 노래를 들었습니다  그 노래는 마치도 은실을 타고 별나라에서 내려오는 노래처럼 아름다웠습니다  그러나 얼마 오래지 않아 목소리는 약간 떨리기 시작했습니다  가늘게 떨리는 노랫소리  그에 따라 풍금의 가는 소리도 바르르 떠는 듯했습니다  노랫소리는 차차 가늘어지더니 마지막에는 사르르 없어져 버렸습니다  풍금 소리도 사르르 없어졌습니다  어머니는 고요히 일어나시더니 옆에 섰는 내 머리를 쓰다듬었습니다  그 다음 순간  어머니는 나를 안고 마루로 나오셨습니다  어머니는 아무 말씀도 없이 그냥 꼭꼭 껴안는 것이었습니다  달빛을 함빡 받은 내 어머니 얼굴은 몹시도 새하얗다고 생각되었습니다  우리 어머니는 참으로 천사 같다고 생각하였습니다  우리 어머니의 새하얀 두 뺨 위로는 쉴 새 없이 두 줄기 눈물이 줄줄 흘러내리고 있는 것을 나는 보았습니다  그것을 보니 나도 갑자기 울고 싶어졌습니다   어머니  왜 울어   하고 나도 훌쩍거리면서 물었습니다   옥희야    응   한참 동안 어머니는 아무 말씀도 없었습니다  그러다가 한참 후에   옥희야  난 너 하나문 그뿐이다    엄마   어머니는 다시 대답이 없으셨습니다  하루는 밤에 아저씨 방에서 놀다가 졸려서 안방으로 들어오려고 일어서니까 아저씨가 하아얀 봉투를 서랍에서 꺼내어 내게 주었습니다   옥희  이거 갖다가 엄마 드리고 지나간 달 밥값이라구  응   나는 그 봉투를 갖다가 어머니에게 드렸습니다  어머니는 그 봉투를 받아 들자 갑자기 얼굴이 파랗게 질렸습니다  그 전날 달밤에 마루에 앉았을 때보다도 더 새하얗다고 생각되었습니다  어머니는 그 봉투를 들고 어쩔 줄을 모르는 듯이 초조한 빛이 나타났습니다  나는   그거 지나간 달 밥값이래   하고 말을 하니까  어머니는 갑자기 잠자다 깨나는 사람처럼  응   하고 놀라더니  또 금시에 백지장같이 새하얗던 얼굴이 발갛게 물들었습니다  봉투 속으로 들어갔던 어머니의 파들파들 떨리는 손가락이 지전을 몇 장 끌고 나왔습니다  어머니는 입술에 약간 웃음을 띠면서 후 하고 한숨을 내쉬었습니다  그러나  그것도 잠시 다시 어머니는 무엇에 놀랐는지 흠칫하더니  금시에 얼굴이 새하얘지고 입술이 바르르 떨렸습니다  어머니의 손을 바라다보니 거기에는 지전 몇 장 외에 네모로 접은 하얀 종이가 한 장 잡혀 있는 것이었습니다  어머니는 한참을 망설이는 모양이었습니다  그러나 무슨 결심을 한 듯이 입술을 악물고  그 종이를 차근차근 펴 들고 그 안에 쓰인 글을 읽었습니다  나는 그 안에 무슨 글이 씌어 있는지 알 도리가 없었으나  어머니는 그 글을 읽으면서 금시에 얼굴이 파랬다 발갰다 하고  그 종이를 든 손은 이제는 바들바들이 아니라 와들와들 떨리어서 그 종이가 부석부석 소리를 내게 되었습니다  한참 후에 어머니는 그 종이를 아까 모양으로 네모지게 접어서 돈과 함께 봉투에 도로 넣어 반짇고리에 던졌습니다  그리고는  정신 나간 사람처럼 멀거니 앉아서 전등만 쳐다보는데 어머니 가슴이 불룩불룩합니다  나는 혹시 어머니가 병이나 나지 않았나 하고 염려가 되어서 얼른 가서 무릎에 안기면서   엄마 잘까   하고 말했습니다  엄마는 내 뺨에 입을 맞추어 주었습니다  그런데 어머니의 입술이 어쩌면 그리도 뜨거운지요  마치 불에 달군 돌이 볼에 와 닿는 것 같았습니다  한참을 자고 나서 잠이 채 깨지는 않았으나  어렴풋한 정신으로 옆을 쓸어 보니 어머니가 없었습니다  가끔 가다가 나는 그런 버릇이 있어요  어렴풋한 정신으로 옆을 쓸면 어머니의 보드라운 살이 만져지지요  그러면 다시 나는 잠이 들어 버리곤 하는 것이었습니다  어머니가 자리에 없다는 것을 알게 되자 나는 갑자기 무서워졌습니다  그래서 잠은 다 달아나고 눈을 번쩍 뜨고 고개를 돌려 살펴보았습니다  방 안에는 불은 안 켰지만 어슴푸레하게 밝습니다  뜰로 하나 가득한 달빛이 방 안에까지 희미한 밝음을 던져 주는 것이었습니다  윗목을 보니 우리 아버지의 옷을 넣어 두고  가끔 어머니가 꺼내서 쓸어 보시는 그 장롱문이 열려 있고  그 아래 방바닥에는 흰옷이 한 무더기 널려 있습니다  그리고 그 옆에는 장롱을 반쯤 기대고 자리옷만 입은 어머니가 주춤하고 앉아서 고개를 위로 쳐들고 눈을 감고 무엇이라고 입술로 소곤소곤 외고 있는 것이 보였습니다  아마 기도를 하나 보다 하고 나는 생각했습니다  나는 자리에서 일어나서 기어가서 어머니 무릎을 뻐개고 기어 들어갔습니다   엄마  무얼 해   어머니는 소곤거리기를 그치고 눈을 떠서 나를 한참이나 물끄러미 들여다보십니다   옥희야    응    가서 자자    엄마두 같이 자    응  그래 엄마도 같이 자   그 목소리가 어째 싸늘하다고 내게 생각되었습니다  어머니는 돌아가신 아버지의 옷들을 한 가지씩 들고는 가만히 손바닥으로 쓸어 보고는 장롱 안에 넣었습니다  하나씩 하나씩 장롱에 넣곤 하여  그 옷을 넣은 다음  장롱문을 닫고 쇠를 채우고  그리고 나서 나를 안고 자리로 돌아왔습니다   엄마  우리 기도하고 자   하고  나는 물었습니다  어머니는 나를 밤마다 재워 줄 때마다 반드시 기도를 하는 것이었습니다  내가 할 줄 아는 기도는 주기도문뿐이었습니다  그 뜻은 하나도 모르지만 어머니를 따라서 자꾸자꾸 해 보아서 지금에는 나도 주기도문을 잘 외웁니다  그런데 웬일인지 어젯밤 잘 때에는 어머니가 기도할 것을 잊어버리고  그냥 잤던 것이 지금 생각이 났기 때문에 나는 그렇게 물었던 것입니다  어젯밤 자리에 들 때 내가   기도할까   하고 말하고 싶었으나  어머니가 너무도 슬픈 빛을 띠고 있어서 그만 나도 가만히 아무 소리 없이 잠이 들고 말았던 것입니다   응  기도하자   하고 어머니가 고요히 기도했습니다   엄마가 기도해   하고 나는 갑자기 어머니의 기도하는 보드라운 음성이 듣고 싶어져서 말했습니다   하늘에 계신 우리 아버지시여   어머니는 고요히 기도를 시작하였습니다   이름을 거룩하게 하옵시며  나라에 임하옵시며  뜻이 하늘에서 이루어진 것처럼 땅에서도 이루어지이다  오늘날 우리에게 일용할 양식을 주옵시고  우리가 우리에게 죄 지은 자를 용서하여 준 것처럼 우리 죄를 사하여 주옵시고  우리를 시험에 들지 말게 하옵시고   우리를 시험에 들지 말게 하옵시고   시험에 들지 말게   시험에 들지 말게     이렇게 어머니는 자꾸 되풀이하였습니다  나도 지금은 막히지 않고 줄줄 외는 주기도문을 글쎄 어머니가 막히다니 참으로 우스운 일이었습니다   시험에 들지 말게  시험에 들지 말게     하고 자꾸만 되풀이하는 것을 나는 참다 못해서   엄마  내 마저 할게   하고   다만 악에서 구하옵소서  대개 나라와 권세와 영광이 아버지께 영원히 있사옵나이다   하고 내가 끝을 마쳤습니다  어머니는 한참이나 가만 있다가 오랜 후에야 겨우   아멘   하고 속살거렸습니다  요새 와서 어머니의 하는 일이란 참으로 알 수가 없는 노릇입니다  어떤 때는 어머니도 퍽 유쾌하셨습니다  밤에 때로는 풍금을 타고  또 때로는 찬송가도 부르고  그러실 때에는 나도 너무도 좋아서 가만히 어머니 옆에 앉아서 듣습니다  그러나 가끔가끔 그 독창은 소리 없는 울음으로 끝을 맺는 때가 많은데  그런 때면 나도 따라서 울었습니다  그러면 어머니는 나를 안고 내 얼굴에 돌아가면서 무수히 입을 맞추어 주면서   엄마는 옥희 하나문 그뿐이야  응  그렇지     하시면서 언제까지나 언제까지나 우시는 것이었습니다  어떤 일요일날  그렇지요  그것은 유치원 방학하고 난 그 이튿날이었습니다  그 날 어머니는 갑자기 머리가 아프시다고 예배당에를 그만두었습니다  사랑에서는 아저씨도 어디 나가고  외삼촌도 어디 나가고  집에는 어머니와 나와 단 둘이 있었는데  머리가 아프다고 누워 계시던 어머니가 갑자기 나를 부르시더니   옥희야  너 아빠가 보고 싶니   하고 물으십니다   응  우리두 아빠 하나 있으문   하고  나는 혀를 까불고 어리광을 좀 부려 가면서 대답을 했습니다  한참 동안을 어머니는 아무 말씀도 아니하시고 천장만 바라다보시더니   옥희야  옥희 아버지는 옥희가 세상에 나오기도 전에 돌아가셨단다  옥희두 아빠가 없는 건 아니지  그저 일찍 돌아가셨지  옥희가 이제 아버지를 새로 또 가지면 세상이 욕을 한단다  옥희는 아직 철이 없어서 모르지만 세상이 욕을 한단다  사람들이 욕을 해  옥희 어머니는 화냥년이다  이러구 세상이 욕을 해  옥희 아버지는 죽었는데  옥희는 아버지가 또 하나 생겼대  참 망측두 하지  이러구 세상이 욕을 한단다  그리 되문 옥희는 언제나 손가락질 받구  옥희는 커두 시집두 훌륭한 데 못 가구  옥희가 공부를 해서 훌륭하게 돼두  에 그까짓 화냥년의 딸  이러구 남들이 욕을 한단다   이렇게 어머니는 혼잣말 하시듯 드문드문 말씀하셨습니다  그리고는 한참 후에   옥희야   하고 또 부르십니다   응    옥희는 언제나  언제나 내 곁을 안 떠나지  옥희는 언제나  언제나 엄마하구 같이 살지  옥희는 엄마가 늙어서 꼬부랑 할미가 되어두  그래두 옥희는 엄마하구 같이 살지  옥희가 유치원 졸업하구  또 소학교 졸업하구  또 중학교 졸업하구  또 대학교 졸업하구  옥희가 조선서 제일 훌륭한 사람이 돼두  그래두 옥희는 엄마하구 같이 살지  응  옥희는 엄마를 얼만큼 사랑하나    이만큼   하고 나는 두 팔을 짝 벌리어 보였습니다   응  얼만큼  응  그만큼  언제나  언제나 옥희는 엄마만 사랑하지  그리구 공부두 잘하구  그리고 훌륭한 사람이 되구   나는 어머니의 목소리가 떨리는 것으로 보아 어머니가 또 울까 봐 겁이 나서   엄마  이만큼  이만큼   하면서 두 팔을 짝짝 벌리었습니다  어머니는 울지 않으셨습니다   응  그래  옥희 엄마는 옥희 하나문 그뿐이야  세상 다른 건 다 소용없어  우리 옥희 하나문 그만이야  그렇지  옥희야    응   어머니는 나를 당기어서 꼭 껴안고 내 가슴이 막혀 들어올 때까지 자꾸만 껴안아 주었습니다  그 날 밤  저녁밥 먹고 나니까 어머니는 나를 불러 앉히고 머리를 새로 빗겨 주었습니다  댕기를 새 댕기로 드려 주고  바지  저고리  치마  모두 새것을 꺼내 입혀 주었습니다   엄마  어디 가   하고 물으니까   아니   하고 웃음을 띠면서 대답합니다  그러더니  풍금 옆에서 내리어 새로 다린 하얀 손수건을 내리어 내 손에 쥐어 주면서   이 손수건  저 사랑 아저씨 손수건인데  이것 아저씨 갖다 드리구 와  응  오래 있지 말구 손수건만 갖다 드리구 이내 와  응   하고 말씀하셨습니다  손수건을 들고 사랑으로 나가면서 나는 접어진 손수건 속에 무슨 발각발각하는 종이가 들어 있는 것처럼 생각되었습니다마는  그것을 펴 보지 않고 그냥 갖다가 아저씨에게 주었습니다  아저씨는 방에 누워 있다가 벌떡 일어나서 손수건을 받는데  웬일인지 아저씨는 이전처럼 나보고 빙그레 웃지도 않고 얼굴이 몹시 파래졌습니다  그리고는  입술을 질근질근 깨물면서 말 한 마디 아니하고 그 손수건을 받더군요  나는 어째 이상한 기분이 들어서 아저씨 방에 들어가 앉지도 못하고  그냥 되돌아서 안방으로 도로 왔지요  어머니는 풍금 앞에 앉아서 무엇을 그리 생각하는지 가만히 있더군요  나는 풍금 옆으로 가서 가만히 옆에 앉아 있었습니다  이윽고  어머니는 조용조용히 풍금을 타십니다  무슨 곡조인지는 몰라도 어째 구슬프고 고즈넉한 곡조야요  밤이 늦도록 어머니는 풍금을 타셨습니다  그 구슬프고 고즈넉한 곡조를 계속하고 또 계속하면서    여러 밤을 자고 난 어떤 날 오후에 나는 오래간만에 아저씨 방엘 나가 보았더니  아저씨가 짐을 싸느라고 분주하겠지요  내가 아저씨에게 손수건을 갖다 드린 다음부터는 웬일인지 아저씨가 나를 보아도 언제나 퍽 슬픈 사람  무슨 근심이 있는 사람처럼 아무 말도 없이 나를 물끄러미 바라다만 보고 있어서  나도 그리 자주 놀러 오지는 않았던 것입니다  그랬었는데 이렇게 갑자기 짐을 꾸리는 것을 보고 나는 놀랐습니다   아저씨  어데 가우    응  멀리루 간다    언제    오늘 기차 타구    응  기차 타구    갔다가 언제 또 오우   아저씨는 아무 대답도 없이 서랍에서 예쁜 인형을 하나 꺼내서 내게 주었습니다   옥희  이것 가져  응  옥희는 아저씨 가구 나문 아저씨 이내 잊어버리구 말겠지   나는 갑자기 슬퍼졌습니다   아니   하고 얼른 대답하고  인형을 안고 안으로 들어왔습니다   엄마  이것 봐  아저씨가 이것 나 줬다우  아저씨가 오늘 기차 타구 먼 데루 간대   하고 내가 말했으나  어머니는 대답이 없으십니다   엄마  아저씨 왜 가우    학교 방학했으니깐 가지    어디루 가우    아저씨 집으루 가지 어디루 가    갔다가 또 오우   어머니는 대답이 없으십니다   난 아저씨 가는 거 나쁘다   하고 입을 쫑긋했으나  어머니는 그 말에 대답 않고   옥희야  벽장에 가서 달걀 몇 알 남았나 보아라   하고 말씀하셨습니다  나는 깡충깡충 방 안으로 들어갔습니다  달걀은 여섯 알이 있었습니다   여스 알   하고 나는 소리쳤습니다   응  다 가지고 이리 나오너라   어머니는 그 달걀 여섯 알을 다 삶았습니다  그 삶은 달걀 여섯 알을 손수건에 싸 놓고  또 반지에 소금을 조금 싸서 한 귀퉁이에 넣었습니다   옥희야  너 이것 갖다 아저씨 드리고  가시다가 찻간에서 잡수시랜다구  응   그 날 오후에 아저씨가 떠나간 다음  방에서 아저씨가 준 인형을 업고 자장자장 잠을 재우고 있었습니다  어머니가 부엌에서 들어오시더니   옥희야  우리 뒷동산에 바람이나 쐬러 올라갈까   하십니다   응  가  가   하면서 나는 좋아 덤비었습니다  잠깐 다녀올 터이니 집을 보고 있으라고 외삼촌에게 이르고  어머니는 내 손목을 잡고 나섰습니다   엄마  나 저  아저씨가 준 인형 가지고 가    그러렴   나는 인형을 안고 어머니 손목을 잡고 뒷동산으로 올라갔습니다  뒷동산에 올라가면 정거장이 빤히 내려다보입니다   엄마  저 정거장 봐  기차는 없군   어머니가 아무 말씀도 없이 가만히 서 계십니다  사르르 바람이 와서 어머니 모시 치맛자락을 산들산들 흔들어 주었습니다  그렇게 산 위에 가만히 서 있는 어머니는 다른 때보다도 더 한층 이쁘게 보였습니다  저편 산모퉁이에서 기차가 나타났습니다   아  저기 기차가 온다   하고 나는 좋아서 소리쳤습니다  기차는 정거장에 잠시 머물더니  금시에 뻑 하고 소리를 지르면서 움직였습니다   기차 떠난다   하면서 나는 손뼉을 쳤습니다  기차가 저편 산모퉁이 뒤로 사라질 때까지  그리고 그 굴뚝에서 나는 연기가 하늘 위로 모두 흩어져 없어질 때까지  어머니는 가만히 서서 그것을 바라다보았습니다  뒷동산에서 내려오자 어머니는 방으로 들어가시더니  이 때까지 뚜껑을 늘 열어 두었던 풍금 뚜껑을 닫으십니다  그리고는  거기 쇠를 채우고 그 위에다가 이전 모양으로 반짇고리를 얹어 놓으십니다  그리고는  그 옆에 있는 찬송가를 맥없이 들고 뒤적뒤적하시더니  빼빼 마른 꽃송이를 그 갈피에서 집어 내시고   옥희야  이것 내다 버려라   하고 그 마른 꽃을 내게 주었습니다  그 꽃은 내가 유치원에서 갖다가 어머니께 드렸던 그 꽃입니다  그러자  옆 대문이 삐걱하더니   달걀 사소   하고  매일 오는 달걀 장수 노파가 달걀 광주리를 이고 들어왔습니다   인젠 우리 달걀 안 사요  달걀 먹는 이가 없어요   하시는 어머니 소리는 맥이 한푼어치 없었습니다  나는 어머니의 이 말씀에 놀라서 떼를 좀 써 보려 했으나  석양에 빤히 비치는 어머니의 얼굴을 볼 때 그 용기가 없어지고 말았습니다  그래서 아저씨가 주신 인형 귀에다가 내 입을 갖다 대고 가만히 속삭이었습니다   얘  우리 엄마가 거짓부리 썩 잘하누나  내가 달걀 좋아하는 줄을 알문서 생 먹을 사람이 없대누나  떼를 좀 쓰고 싶다만  저 우리 엄마 얼굴을 좀 봐라  어쩌문 저리두 새파래졌을까  아마 어데가 아픈가 부다   라고요 '"
      ]
     },
     "execution_count": 138,
     "metadata": {},
     "output_type": "execute_result"
    }
   ],
   "source": [
    "sarang"
   ]
  },
  {
   "cell_type": "code",
   "execution_count": 19,
   "id": "5e7e0fd6-8b27-4900-a5ec-6d4721f77d3b",
   "metadata": {},
   "outputs": [
    {
     "data": {
      "text/plain": [
       "True"
      ]
     },
     "execution_count": 19,
     "metadata": {},
     "output_type": "execute_result"
    }
   ],
   "source": [
    "kiwi.add_user_word('많관부', tag='NNP', score=0)"
   ]
  },
  {
   "cell_type": "code",
   "execution_count": 22,
   "id": "6f8735b3-2237-4857-9aa8-f5ecefa2aa1c",
   "metadata": {},
   "outputs": [
    {
     "name": "stdout",
     "output_type": "stream",
     "text": [
      "[Token(form='사랑', tag='NNG', start=0, len=2), Token(form='손', tag='NNG', start=3, len=1), Token(form='님', tag='XSN', start=4, len=1), Token(form='과', tag='JC', start=5, len=1), Token(form='어머니', tag='NNG', start=7, len=3), Token(form='나', tag='NP', start=12, len=1), Token(form='는', tag='JX', start=13, len=1), Token(form='금년', tag='NNG', start=15, len=2), Token(form='여섯', tag='NR', start=18, len=2), Token(form='살', tag='NNB', start=21, len=1), Token(form='나', tag='VV', start=23, len=1), Token(form='ᆫ', tag='ETM', start=23, len=1), Token(form='처녀', tag='NNG', start=25, len=2), Token(form='애', tag='NNG', start=27, len=1), Token(form='이', tag='VCP', start=28, len=1), Token(form='ᆸ니다', tag='EF', start=28, len=3), Token(form='나', tag='NP', start=33, len=1), Token(form='의', tag='JKG', start=33, len=1), Token(form='이름', tag='NNG', start=35, len=2), Token(form='은', tag='JX', start=37, len=1), Token(form='박옥희', tag='NNP', start=39, len=3), Token(form='이', tag='VCP', start=42, len=1), Token(form='고', tag='EC', start=43, len=1), Token(form='요', tag='JX', start=44, len=1), Token(form='우리', tag='NP', start=47, len=2), Token(form='집', tag='NNG', start=50, len=1), Token(form='식구', tag='NNG', start=52, len=2), Token(form='이', tag='VCP', start=54, len=0), Token(form='라고', tag='EC', start=54, len=2), Token(form='는', tag='JX', start=56, len=1), Token(form='세상', tag='NNG', start=58, len=2), Token(form='에서', tag='JKB', start=60, len=2), Token(form='제일', tag='MAG', start=63, len=2), Token(form='이쁘', tag='VA', start=66, len=2), Token(form='ᆫ', tag='ETM', start=67, len=1), Token(form='우리', tag='NP', start=69, len=2), Token(form='어머니', tag='NNG', start=72, len=3), Token(form='와', tag='JC', start=75, len=1), Token(form='단', tag='MM', start=77, len=1), Token(form='두', tag='MM', start=79, len=1), Token(form='식구', tag='NNG', start=81, len=2), Token(form='뿐', tag='NNB', start=83, len=1), Token(form='이', tag='VCP', start=84, len=1), Token(form='랍니다', tag='EF', start=85, len=3)]\n"
     ]
    }
   ],
   "source": [
    "print(kiwi.tokenize('사랑 손님과 어머니  나는 금년 여섯 살 난 처녀애입니다  내 이름은 박옥희이고요  우리 집 식구라고는 세상에서 제일 이쁜 우리 어머니와 단 두 식구뿐이랍니다'))\n"
   ]
  },
  {
   "cell_type": "code",
   "execution_count": 28,
   "id": "c313f0ae-47d3-4ce4-abbe-003094d951ea",
   "metadata": {},
   "outputs": [],
   "source": [
    "def extract_noun(text):\n",
    "    result = kiwi.tokenize(text)\n",
    "    for token in result:\n",
    "        if token.tag in ['NNG','NNP']:\n",
    "            yield token.form"
   ]
  },
  {
   "cell_type": "code",
   "execution_count": 29,
   "id": "7d11bc02-b5bb-420e-b77f-a9bd0550cbda",
   "metadata": {},
   "outputs": [
    {
     "name": "stdout",
     "output_type": "stream",
     "text": [
      "['사랑', '손', '어머니', '금년', '처녀', '애', '이름', '박옥희', '집', '식구', '세상', '어머니', '식구']\n"
     ]
    }
   ],
   "source": [
    "print(list(extract_noun('사랑 손님과 어머니  나는 금년 여섯 살 난 처녀애입니다  내 이름은 박옥희이고요  우리 집 식구라고는 세상에서 제일 이쁜 우리 어머니와 단 두 식구뿐이랍니다')))"
   ]
  },
  {
   "cell_type": "code",
   "execution_count": 139,
   "id": "1a17e51f-104b-4d96-aaa7-3a5fe3484997",
   "metadata": {},
   "outputs": [],
   "source": [
    "import pandas as pd"
   ]
  },
  {
   "cell_type": "code",
   "execution_count": 140,
   "id": "d130c167-d577-423a-ac7e-1134d37e545e",
   "metadata": {},
   "outputs": [],
   "source": [
    "topwords = pd.Series(words).value_counts().head(10)"
   ]
  },
  {
   "cell_type": "code",
   "execution_count": 141,
   "id": "a2510679-bab4-4043-ba0a-2e9f0755fe96",
   "metadata": {},
   "outputs": [],
   "source": [
    "words = list(extract_noun('sarang'))"
   ]
  },
  {
   "cell_type": "code",
   "execution_count": 142,
   "id": "6a4e2a68-aafb-4019-a818-7869e802f5cc",
   "metadata": {},
   "outputs": [
    {
     "data": {
      "text/plain": [
       "어머니    167\n",
       "아저씨     95\n",
       "옥희      61\n",
       "엄마      44\n",
       "때       38\n",
       "아버지     30\n",
       "풍금      30\n",
       "외삼촌     29\n",
       "생각      28\n",
       "사랑      26\n",
       "dtype: int64"
      ]
     },
     "execution_count": 142,
     "metadata": {},
     "output_type": "execute_result"
    }
   ],
   "source": [
    "topwords"
   ]
  },
  {
   "cell_type": "code",
   "execution_count": 143,
   "id": "24473ef3-ee4c-4090-8eb7-39a228b2a901",
   "metadata": {},
   "outputs": [
    {
     "name": "stdout",
     "output_type": "stream",
     "text": [
      "compute.use_bottleneck : bool\n",
      "    Use the bottleneck library to accelerate if it is installed,\n",
      "    the default is True\n",
      "    Valid values: False,True\n",
      "    [default: True] [currently: True]\n",
      "compute.use_numba : bool\n",
      "    Use the numba engine option for select operations if it is installed,\n",
      "    the default is False\n",
      "    Valid values: False,True\n",
      "    [default: False] [currently: False]\n",
      "compute.use_numexpr : bool\n",
      "    Use the numexpr library to accelerate computation if it is installed,\n",
      "    the default is True\n",
      "    Valid values: False,True\n",
      "    [default: True] [currently: True]\n",
      "display.chop_threshold : float or None\n",
      "    if set to a float value, all float values smaller then the given threshold\n",
      "    will be displayed as exactly 0 by repr and friends.\n",
      "    [default: None] [currently: None]\n",
      "display.colheader_justify : 'left'/'right'\n",
      "    Controls the justification of column headers. used by DataFrameFormatter.\n",
      "    [default: right] [currently: right]\n",
      "display.column_space No description available.\n",
      "    [default: 12] [currently: 12]\n",
      "display.date_dayfirst : boolean\n",
      "    When True, prints and parses dates with the day first, eg 20/01/2005\n",
      "    [default: False] [currently: False]\n",
      "display.date_yearfirst : boolean\n",
      "    When True, prints and parses dates with the year first, eg 2005/01/20\n",
      "    [default: False] [currently: False]\n",
      "display.encoding : str/unicode\n",
      "    Defaults to the detected encoding of the console.\n",
      "    Specifies the encoding to be used for strings returned by to_string,\n",
      "    these are generally strings meant to be displayed on the console.\n",
      "    [default: UTF-8] [currently: UTF-8]\n",
      "display.expand_frame_repr : boolean\n",
      "    Whether to print out the full DataFrame repr for wide DataFrames across\n",
      "    multiple lines, `max_columns` is still respected, but the output will\n",
      "    wrap-around across multiple \"pages\" if its width exceeds `display.width`.\n",
      "    [default: True] [currently: True]\n",
      "display.float_format : callable\n",
      "    The callable should accept a floating point number and return\n",
      "    a string with the desired format of the number. This is used\n",
      "    in some places like SeriesFormatter.\n",
      "    See formats.format.EngFormatter for an example.\n",
      "    [default: None] [currently: None]\n",
      "display.html.border : int\n",
      "    A ``border=value`` attribute is inserted in the ``<table>`` tag\n",
      "    for the DataFrame HTML repr.\n",
      "    [default: 1] [currently: 1]\n",
      "display.html.table_schema : boolean\n",
      "    Whether to publish a Table Schema representation for frontends\n",
      "    that support it.\n",
      "    (default: False)\n",
      "    [default: False] [currently: False]\n",
      "display.html.use_mathjax : boolean\n",
      "    When True, Jupyter notebook will process table contents using MathJax,\n",
      "    rendering mathematical expressions enclosed by the dollar symbol.\n",
      "    (default: True)\n",
      "    [default: True] [currently: True]\n",
      "display.large_repr : 'truncate'/'info'\n",
      "    For DataFrames exceeding max_rows/max_cols, the repr (and HTML repr) can\n",
      "    show a truncated table (the default from 0.13), or switch to the view from\n",
      "    df.info() (the behaviour in earlier versions of pandas).\n",
      "    [default: truncate] [currently: truncate]\n",
      "display.latex.escape : bool\n",
      "    This specifies if the to_latex method of a Dataframe uses escapes special\n",
      "    characters.\n",
      "    Valid values: False,True\n",
      "    [default: True] [currently: True]\n",
      "display.latex.longtable :bool\n",
      "    This specifies if the to_latex method of a Dataframe uses the longtable\n",
      "    format.\n",
      "    Valid values: False,True\n",
      "    [default: False] [currently: False]\n",
      "display.latex.multicolumn : bool\n",
      "    This specifies if the to_latex method of a Dataframe uses multicolumns\n",
      "    to pretty-print MultiIndex columns.\n",
      "    Valid values: False,True\n",
      "    [default: True] [currently: True]\n",
      "display.latex.multicolumn_format : bool\n",
      "    This specifies if the to_latex method of a Dataframe uses multicolumns\n",
      "    to pretty-print MultiIndex columns.\n",
      "    Valid values: False,True\n",
      "    [default: l] [currently: l]\n",
      "display.latex.multirow : bool\n",
      "    This specifies if the to_latex method of a Dataframe uses multirows\n",
      "    to pretty-print MultiIndex rows.\n",
      "    Valid values: False,True\n",
      "    [default: False] [currently: False]\n",
      "display.latex.repr : boolean\n",
      "    Whether to produce a latex DataFrame representation for jupyter\n",
      "    environments that support it.\n",
      "    (default: False)\n",
      "    [default: False] [currently: False]\n",
      "display.max_categories : int\n",
      "    This sets the maximum number of categories pandas should output when\n",
      "    printing out a `Categorical` or a Series of dtype \"category\".\n",
      "    [default: 8] [currently: 8]\n",
      "display.max_columns : int\n",
      "    If max_cols is exceeded, switch to truncate view. Depending on\n",
      "    `large_repr`, objects are either centrally truncated or printed as\n",
      "    a summary view. 'None' value means unlimited.\n",
      "\n",
      "    In case python/IPython is running in a terminal and `large_repr`\n",
      "    equals 'truncate' this can be set to 0 and pandas will auto-detect\n",
      "    the width of the terminal and print a truncated object which fits\n",
      "    the screen width. The IPython notebook, IPython qtconsole, or IDLE\n",
      "    do not run in a terminal and hence it is not possible to do\n",
      "    correct auto-detection.\n",
      "    [default: 20] [currently: 10]\n",
      "display.max_colwidth : int or None\n",
      "    The maximum width in characters of a column in the repr of\n",
      "    a pandas data structure. When the column overflows, a \"...\"\n",
      "    placeholder is embedded in the output. A 'None' value means unlimited.\n",
      "    [default: 50] [currently: 50]\n",
      "display.max_dir_items : int\n",
      "    The number of items that will be added to `dir(...)`. 'None' value means\n",
      "    unlimited. Because dir is cached, changing this option will not immediately\n",
      "    affect already existing dataframes until a column is deleted or added.\n",
      "\n",
      "    This is for instance used to suggest columns from a dataframe to tab\n",
      "    completion.\n",
      "    [default: 100] [currently: 100]\n",
      "display.max_info_columns : int\n",
      "    max_info_columns is used in DataFrame.info method to decide if\n",
      "    per column information will be printed.\n",
      "    [default: 100] [currently: 100]\n",
      "display.max_info_rows : int or None\n",
      "    df.info() will usually show null-counts for each column.\n",
      "    For large frames this can be quite slow. max_info_rows and max_info_cols\n",
      "    limit this null check only to frames with smaller dimensions than\n",
      "    specified.\n",
      "    [default: 1690785] [currently: 1690785]\n",
      "display.max_rows : int\n",
      "    If max_rows is exceeded, switch to truncate view. Depending on\n",
      "    `large_repr`, objects are either centrally truncated or printed as\n",
      "    a summary view. 'None' value means unlimited.\n",
      "\n",
      "    In case python/IPython is running in a terminal and `large_repr`\n",
      "    equals 'truncate' this can be set to 0 and pandas will auto-detect\n",
      "    the height of the terminal and print a truncated object which fits\n",
      "    the screen height. The IPython notebook, IPython qtconsole, or\n",
      "    IDLE do not run in a terminal and hence it is not possible to do\n",
      "    correct auto-detection.\n",
      "    [default: 60] [currently: None]\n",
      "display.max_seq_items : int or None\n",
      "    When pretty-printing a long sequence, no more then `max_seq_items`\n",
      "    will be printed. If items are omitted, they will be denoted by the\n",
      "    addition of \"...\" to the resulting string.\n",
      "\n",
      "    If set to None, the number of items to be printed is unlimited.\n",
      "    [default: 100] [currently: None]\n",
      "display.memory_usage : bool, string or None\n",
      "    This specifies if the memory usage of a DataFrame should be displayed when\n",
      "    df.info() is called. Valid values True,False,'deep'\n",
      "    [default: True] [currently: True]\n",
      "display.min_rows : int\n",
      "    The numbers of rows to show in a truncated view (when `max_rows` is\n",
      "    exceeded). Ignored when `max_rows` is set to None or 0. When set to\n",
      "    None, follows the value of `max_rows`.\n",
      "    [default: 10] [currently: 10]\n",
      "display.multi_sparse : boolean\n",
      "    \"sparsify\" MultiIndex display (don't display repeated\n",
      "    elements in outer levels within groups)\n",
      "    [default: True] [currently: True]\n",
      "display.notebook_repr_html : boolean\n",
      "    When True, IPython notebook will use html representation for\n",
      "    pandas objects (if it is available).\n",
      "    [default: True] [currently: True]\n",
      "display.pprint_nest_depth : int\n",
      "    Controls the number of nested levels to process when pretty-printing\n",
      "    [default: 3] [currently: 3]\n",
      "display.precision : int\n",
      "    Floating point output precision in terms of number of places after the\n",
      "    decimal, for regular formatting as well as scientific notation. Similar\n",
      "    to ``precision`` in :meth:`numpy.set_printoptions`.\n",
      "    [default: 6] [currently: 6]\n",
      "display.show_dimensions : boolean or 'truncate'\n",
      "    Whether to print out dimensions at the end of DataFrame repr.\n",
      "    If 'truncate' is specified, only print out the dimensions if the\n",
      "    frame is truncated (e.g. not display all rows and/or columns)\n",
      "    [default: truncate] [currently: truncate]\n",
      "display.unicode.ambiguous_as_wide : boolean\n",
      "    Whether to use the Unicode East Asian Width to calculate the display text\n",
      "    width.\n",
      "    Enabling this may affect to the performance (default: False)\n",
      "    [default: False] [currently: False]\n",
      "display.unicode.east_asian_width : boolean\n",
      "    Whether to use the Unicode East Asian Width to calculate the display text\n",
      "    width.\n",
      "    Enabling this may affect to the performance (default: False)\n",
      "    [default: False] [currently: False]\n",
      "display.width : int\n",
      "    Width of the display in characters. In case python/IPython is running in\n",
      "    a terminal this can be set to None and pandas will correctly auto-detect\n",
      "    the width.\n",
      "    Note that the IPython notebook, IPython qtconsole, or IDLE do not run in a\n",
      "    terminal and hence it is not possible to correctly detect the width.\n",
      "    [default: 80] [currently: 10]\n",
      "io.excel.ods.reader : string\n",
      "    The default Excel reader engine for 'ods' files. Available options:\n",
      "    auto, odf.\n",
      "    [default: auto] [currently: auto]\n",
      "io.excel.ods.writer : string\n",
      "    The default Excel writer engine for 'ods' files. Available options:\n",
      "    auto, odf.\n",
      "    [default: auto] [currently: auto]\n",
      "io.excel.xls.reader : string\n",
      "    The default Excel reader engine for 'xls' files. Available options:\n",
      "    auto, xlrd.\n",
      "    [default: auto] [currently: auto]\n",
      "io.excel.xls.writer : string\n",
      "    The default Excel writer engine for 'xls' files. Available options:\n",
      "    auto, xlwt.\n",
      "    [default: auto] [currently: auto]\n",
      "    (Deprecated, use `` instead.)\n",
      "io.excel.xlsb.reader : string\n",
      "    The default Excel reader engine for 'xlsb' files. Available options:\n",
      "    auto, pyxlsb.\n",
      "    [default: auto] [currently: auto]\n",
      "io.excel.xlsm.reader : string\n",
      "    The default Excel reader engine for 'xlsm' files. Available options:\n",
      "    auto, xlrd, openpyxl.\n",
      "    [default: auto] [currently: auto]\n",
      "io.excel.xlsm.writer : string\n",
      "    The default Excel writer engine for 'xlsm' files. Available options:\n",
      "    auto, openpyxl.\n",
      "    [default: auto] [currently: auto]\n",
      "io.excel.xlsx.reader : string\n",
      "    The default Excel reader engine for 'xlsx' files. Available options:\n",
      "    auto, xlrd, openpyxl.\n",
      "    [default: auto] [currently: auto]\n",
      "io.excel.xlsx.writer : string\n",
      "    The default Excel writer engine for 'xlsx' files. Available options:\n",
      "    auto, openpyxl, xlsxwriter.\n",
      "    [default: auto] [currently: auto]\n",
      "io.hdf.default_format : format\n",
      "    default format writing format, if None, then\n",
      "    put will default to 'fixed' and append will default to 'table'\n",
      "    [default: None] [currently: None]\n",
      "io.hdf.dropna_table : boolean\n",
      "    drop ALL nan rows when appending to a table\n",
      "    [default: False] [currently: False]\n",
      "io.parquet.engine : string\n",
      "    The default parquet reader/writer engine. Available options:\n",
      "    'auto', 'pyarrow', 'fastparquet', the default is 'auto'\n",
      "    [default: auto] [currently: auto]\n",
      "io.sql.engine : string\n",
      "    The default sql reader/writer engine. Available options:\n",
      "    'auto', 'sqlalchemy', the default is 'auto'\n",
      "    [default: auto] [currently: auto]\n",
      "mode.chained_assignment : string\n",
      "    Raise an exception, warn, or no action if trying to use chained assignment,\n",
      "    The default is warn\n",
      "    [default: warn] [currently: warn]\n",
      "mode.data_manager : string\n",
      "    Internal data manager type; can be \"block\" or \"array\". Defaults to \"block\",\n",
      "    unless overridden by the 'PANDAS_DATA_MANAGER' environment variable (needs\n",
      "    to be set before pandas is imported).\n",
      "    [default: block] [currently: block]\n",
      "mode.sim_interactive : boolean\n",
      "    Whether to simulate interactive mode for purposes of testing\n",
      "    [default: False] [currently: False]\n",
      "mode.string_storage : string\n",
      "    The default storage for StringDtype.\n",
      "    [default: python] [currently: python]\n",
      "mode.use_inf_as_na : boolean\n",
      "    True means treat None, NaN, INF, -INF as NA (old way),\n",
      "    False means None and NaN are null, but INF, -INF are not NA\n",
      "    (new way).\n",
      "    [default: False] [currently: False]\n",
      "mode.use_inf_as_null : boolean\n",
      "    use_inf_as_null had been deprecated and will be removed in a future\n",
      "    version. Use `use_inf_as_na` instead.\n",
      "    [default: False] [currently: False]\n",
      "    (Deprecated, use `mode.use_inf_as_na` instead.)\n",
      "plotting.backend : str\n",
      "    The plotting backend to use. The default value is \"matplotlib\", the\n",
      "    backend provided with pandas. Other backends can be specified by\n",
      "    providing the name of the module that implements the backend.\n",
      "    [default: matplotlib] [currently: matplotlib]\n",
      "plotting.matplotlib.register_converters : bool or 'auto'.\n",
      "    Whether to register converters with matplotlib's units registry for\n",
      "    dates, times, datetimes, and Periods. Toggling to False will remove\n",
      "    the converters, restoring any converters that pandas overwrote.\n",
      "    [default: auto] [currently: auto]\n",
      "styler.format.decimal : str\n",
      "    The character representation for the decimal separator for floats and complex.\n",
      "    [default: .] [currently: .]\n",
      "styler.format.escape : str, optional\n",
      "    Whether to escape certain characters according to the given context; html or latex.\n",
      "    [default: None] [currently: None]\n",
      "styler.format.formatter : str, callable, dict, optional\n",
      "    A formatter object to be used as default within ``Styler.format``.\n",
      "    [default: None] [currently: None]\n",
      "styler.format.na_rep : str, optional\n",
      "    The string representation for values identified as missing.\n",
      "    [default: None] [currently: None]\n",
      "styler.format.precision : int\n",
      "    The precision for floats and complex numbers.\n",
      "    [default: 6] [currently: 6]\n",
      "styler.format.thousands : str, optional\n",
      "    The character representation for thousands separator for floats, int and complex.\n",
      "    [default: None] [currently: None]\n",
      "styler.html.mathjax : bool\n",
      "    If False will render special CSS classes to table attributes that indicate Mathjax\n",
      "    will not be used in Jupyter Notebook.\n",
      "    [default: True] [currently: True]\n",
      "styler.latex.environment : str\n",
      "    The environment to replace ``\\begin{table}``. If \"longtable\" is used results\n",
      "    in a specific longtable environment format.\n",
      "    [default: None] [currently: None]\n",
      "styler.latex.hrules : bool\n",
      "    Whether to add horizontal rules on top and bottom and below the headers.\n",
      "    [default: False] [currently: False]\n",
      "styler.latex.multicol_align : {\"r\", \"c\", \"l\", \"naive-l\", \"naive-r\"}\n",
      "    The specifier for horizontal alignment of sparsified LaTeX multicolumns. Pipe\n",
      "    decorators can also be added to non-naive values to draw vertical\n",
      "    rules, e.g. \"\\|r\" will draw a rule on the left side of right aligned merged cells.\n",
      "    [default: r] [currently: r]\n",
      "styler.latex.multirow_align : {\"c\", \"t\", \"b\"}\n",
      "    The specifier for vertical alignment of sparsified LaTeX multirows.\n",
      "    [default: c] [currently: c]\n",
      "styler.render.encoding : str\n",
      "    The encoding used for output HTML and LaTeX files.\n",
      "    [default: utf-8] [currently: utf-8]\n",
      "styler.render.max_columns : int, optional\n",
      "    The maximum number of columns that will be rendered. May still be reduced to\n",
      "    satsify ``max_elements``, which takes precedence.\n",
      "    [default: None] [currently: None]\n",
      "styler.render.max_elements : int\n",
      "    The maximum number of data-cell (<td>) elements that will be rendered before\n",
      "    trimming will occur over columns, rows or both if needed.\n",
      "    [default: 262144] [currently: 262144]\n",
      "styler.render.max_rows : int, optional\n",
      "    The maximum number of rows that will be rendered. May still be reduced to\n",
      "    satsify ``max_elements``, which takes precedence.\n",
      "    [default: None] [currently: None]\n",
      "styler.render.repr : str\n",
      "    Determine which output to use in Jupyter Notebook in {\"html\", \"latex\"}.\n",
      "    [default: html] [currently: html]\n",
      "styler.sparse.columns : bool\n",
      "    Whether to sparsify the display of hierarchical columns. Setting to False will\n",
      "    display each explicit level element in a hierarchical key for each column.\n",
      "    [default: True] [currently: True]\n",
      "styler.sparse.index : bool\n",
      "    Whether to sparsify the display of a hierarchical index. Setting to False will\n",
      "    display each explicit level element in a hierarchical key for each row.\n",
      "    [default: True] [currently: True]\n"
     ]
    }
   ],
   "source": [
    "pd.describe_option()"
   ]
  },
  {
   "cell_type": "code",
   "execution_count": 144,
   "id": "44f0f16c-201a-4437-8177-5107b66c7a25",
   "metadata": {},
   "outputs": [],
   "source": [
    "pd.set_option('display.max_columns', 10)"
   ]
  },
  {
   "cell_type": "code",
   "execution_count": 145,
   "id": "415f97e6-3d01-4a37-b601-1ad3d22c491c",
   "metadata": {},
   "outputs": [],
   "source": [
    "pd.set_option('display.max_seq_items', None)"
   ]
  },
  {
   "cell_type": "code",
   "execution_count": 146,
   "id": "12a91bf2-9e70-4d12-b3a5-86c51d28fddc",
   "metadata": {},
   "outputs": [],
   "source": [
    "pd.set_option('display.max_rows', None)"
   ]
  },
  {
   "cell_type": "code",
   "execution_count": 147,
   "id": "167b92d8-3999-47a3-aae8-1f9871db9084",
   "metadata": {},
   "outputs": [],
   "source": [
    "pd.set_option('display.max_columns', 10)"
   ]
  },
  {
   "cell_type": "code",
   "execution_count": 148,
   "id": "562ad61d-7908-4175-bb44-0d9b66de11c4",
   "metadata": {},
   "outputs": [
    {
     "data": {
      "text/plain": [
       "어머니    167\n",
       "아저씨     95\n",
       "옥희      61\n",
       "엄마      44\n",
       "때       38\n",
       "아버지     30\n",
       "풍금      30\n",
       "외삼촌     29\n",
       "생각      28\n",
       "사랑      26\n",
       "dtype: int64"
      ]
     },
     "execution_count": 148,
     "metadata": {},
     "output_type": "execute_result"
    }
   ],
   "source": [
    "topwords"
   ]
  },
  {
   "cell_type": "code",
   "execution_count": 149,
   "id": "3b39787d-b698-4079-8c13-3a5610b9ab39",
   "metadata": {},
   "outputs": [],
   "source": [
    "topwords.to_csv(\"sa.csv\")"
   ]
  },
  {
   "cell_type": "code",
   "execution_count": 150,
   "id": "6e611129-9b37-4992-b4c3-0726eba394e2",
   "metadata": {},
   "outputs": [
    {
     "name": "stdout",
     "output_type": "stream",
     "text": [
      "Requirement already satisfied: wordcloud in c:\\programdata\\anaconda3\\lib\\site-packages (1.9.2)\n",
      "Requirement already satisfied: matplotlib in c:\\programdata\\anaconda3\\lib\\site-packages (from wordcloud) (3.5.2)\n",
      "Requirement already satisfied: numpy>=1.6.1 in c:\\programdata\\anaconda3\\lib\\site-packages (from wordcloud) (1.21.5)\n",
      "Requirement already satisfied: pillow in c:\\programdata\\anaconda3\\lib\\site-packages (from wordcloud) (9.2.0)\n",
      "Requirement already satisfied: cycler>=0.10 in c:\\programdata\\anaconda3\\lib\\site-packages (from matplotlib->wordcloud) (0.11.0)\n",
      "Requirement already satisfied: fonttools>=4.22.0 in c:\\programdata\\anaconda3\\lib\\site-packages (from matplotlib->wordcloud) (4.25.0)\n",
      "Requirement already satisfied: python-dateutil>=2.7 in c:\\programdata\\anaconda3\\lib\\site-packages (from matplotlib->wordcloud) (2.8.2)\n",
      "Requirement already satisfied: kiwisolver>=1.0.1 in c:\\programdata\\anaconda3\\lib\\site-packages (from matplotlib->wordcloud) (1.4.2)\n",
      "Requirement already satisfied: pyparsing>=2.2.1 in c:\\programdata\\anaconda3\\lib\\site-packages (from matplotlib->wordcloud) (3.0.9)\n",
      "Requirement already satisfied: packaging>=20.0 in c:\\programdata\\anaconda3\\lib\\site-packages (from matplotlib->wordcloud) (21.3)\n",
      "Requirement already satisfied: six>=1.5 in c:\\programdata\\anaconda3\\lib\\site-packages (from python-dateutil>=2.7->matplotlib->wordcloud) (1.16.0)\n"
     ]
    }
   ],
   "source": [
    "!pip install wordcloud"
   ]
  },
  {
   "cell_type": "code",
   "execution_count": 151,
   "id": "7c78decd-8e07-4dc1-bdad-4584eb3895d3",
   "metadata": {},
   "outputs": [],
   "source": [
    "font = 'HANAMDAUM(Windows).ttf'"
   ]
  },
  {
   "cell_type": "code",
   "execution_count": 152,
   "id": "3e1574ed-0500-4d00-9882-d728de6f35f5",
   "metadata": {},
   "outputs": [],
   "source": [
    "cloudword = topwords.to_dict()"
   ]
  },
  {
   "cell_type": "code",
   "execution_count": 153,
   "id": "3730dda7-4bbd-45f0-8efe-6eecdce6e09f",
   "metadata": {},
   "outputs": [],
   "source": [
    "from wordcloud import WordCloud"
   ]
  },
  {
   "cell_type": "code",
   "execution_count": 164,
   "id": "cc2d22f7-1ade-420a-a6e2-ad7076a3b50c",
   "metadata": {},
   "outputs": [],
   "source": [
    "wc = WordCloud(random_state = 1234, font_path = font, \\\n",
    "               width = 700, height = 700,\n",
    "background_color = 'white')"
   ]
  },
  {
   "cell_type": "code",
   "execution_count": 165,
   "id": "2094f5bb-76df-41a0-a145-cf37413c721a",
   "metadata": {},
   "outputs": [],
   "source": [
    "wordcloud = wc.generate_from_frequencies(cloudword)"
   ]
  },
  {
   "cell_type": "code",
   "execution_count": 166,
   "id": "faf74c62-17ce-469c-ae62-15765d80bba6",
   "metadata": {},
   "outputs": [
    {
     "data": {
      "text/plain": [
       "<matplotlib.image.AxesImage at 0x27edb866040>"
      ]
     },
     "execution_count": 166,
     "metadata": {},
     "output_type": "execute_result"
    },
    {
     "data": {
      "image/png": "[encoded data removed]",
      "text/plain": [
       "<Figure size 3000x3000 with 1 Axes>"
      ]
     },
     "metadata": {},
     "output_type": "display_data"
    }
   ],
   "source": [
    "import matplotlib.pyplot as plt\n",
    "plt.figure(figsize = (30,30))\n",
    "plt.axis('off')\n",
    "plt.imshow(wordcloud)\n"
   ]
  },
  {
   "cell_type": "code",
   "execution_count": null,
   "id": "2c4e4ccc-1ffa-4f1b-bc52-972ed5c0402b",
   "metadata": {},
   "outputs": [],
   "source": []
  }
 ],
 "metadata": {
  "kernelspec": {
   "display_name": "Python 3 (ipykernel)",
   "language": "python",
   "name": "python3"
  },
  "language_info": {
   "codemirror_mode": {
    "name": "ipython",
    "version": 3
   },
   "file_extension": ".py",
   "mimetype": "text/x-python",
   "name": "python",
   "nbconvert_exporter": "python",
   "pygments_lexer": "ipython3",
   "version": "3.9.13"
  }
 },
 "nbformat": 4,
 "nbformat_minor": 5
}
