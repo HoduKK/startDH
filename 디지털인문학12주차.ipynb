{
 "cells": [
  {
   "cell_type": "code",
   "execution_count": 1,
   "id": "305ab396-cc95-48f1-9019-c65d0df36275",
   "metadata": {},
   "outputs": [
    {
     "name": "stdout",
     "output_type": "stream",
     "text": [
      "Requirement already satisfied: requests in c:\\users\\admin\\anaconda3\\lib\\site-packages (2.28.1)\n",
      "Requirement already satisfied: beautifulsoup4 in c:\\users\\admin\\anaconda3\\lib\\site-packages (4.11.1)\n",
      "Requirement already satisfied: certifi>=2017.4.17 in c:\\users\\admin\\anaconda3\\lib\\site-packages (from requests) (2022.12.7)\n",
      "Requirement already satisfied: charset-normalizer<3,>=2 in c:\\users\\admin\\anaconda3\\lib\\site-packages (from requests) (2.0.4)\n",
      "Requirement already satisfied: urllib3<1.27,>=1.21.1 in c:\\users\\admin\\anaconda3\\lib\\site-packages (from requests) (1.26.14)\n",
      "Requirement already satisfied: idna<4,>=2.5 in c:\\users\\admin\\anaconda3\\lib\\site-packages (from requests) (3.4)\n",
      "Requirement already satisfied: soupsieve>1.2 in c:\\users\\admin\\anaconda3\\lib\\site-packages (from beautifulsoup4) (2.3.2.post1)\n"
     ]
    }
   ],
   "source": [
    "!pip install requests beautifulsoup4"
   ]
  },
  {
   "cell_type": "code",
   "execution_count": 2,
   "id": "57a488ec-9ff2-4d29-bf87-2d8d551dd426",
   "metadata": {},
   "outputs": [],
   "source": [
    "from urllib.request import urlopen\n",
    "from bs4 import BeautifulSoup\n",
    "newurl = 'https://ridibooks.com/category/books/6105?page=1&order=popular'\n",
    "html = urlopen(newurl) \n",
    "bsObject = BeautifulSoup(html, \"html.parser\")"
   ]
  },
  {
   "cell_type": "code",
   "execution_count": 4,
   "id": "357c7947-8926-453c-aebc-95754aafb5f4",
   "metadata": {
    "tags": []
   },
   "outputs": [
    {
     "data": {
      "text/plain": [
       "'무협 만화 연재 전체  - 리디'"
      ]
     },
     "execution_count": 4,
     "metadata": {},
     "output_type": "execute_result"
    }
   ],
   "source": [
    "bsObject.title.string"
   ]
  },
  {
   "cell_type": "code",
   "execution_count": 55,
   "id": "2b2f182e-9def-4820-9798-0f93f946fa63",
   "metadata": {
    "collapsed": true,
    "jupyter": {
     "outputs_hidden": true
    },
    "tags": []
   },
   "outputs": [
    {
     "name": "stdout",
     "output_type": "stream",
     "text": [
      "인생의 밑바닥에 처박힌 그날 붉은 유성이 떨어졌다. 그날 이후, 똑같은 하루가 반복되는 기이한 운명의 변화가 시작되었으니… 잡아라! 구질구질한 과거를 뒤엎고, 무림과 상계를 통일한 천하제일의 영웅이 될 기회를..!!\n",
      "무림의 실권을 놓고 정파(正派)와 사파(邪派)가 대립하고 있던 혼란의 시대. 사파 무림지존인 천마신군의 6번째 제자인 한비광은 뛰어난 경공술을 지닌 무술의 천재이지만, 천성적으로 싸움을 싫어하는 평화주의자이다. 어느 날, 우연히 남장을 한 여검객 담화린을 보고 사랑에 빠지게 되는데... 그녀는 정파최고의 고수 검황의 손녀. 이때부터 한비광의 좌충우돌 무림기행시작되는데... [앞 내용은 단행본으로 감상하세요!]\n",
      "지금까지 한 번도 통일된 적이 없는 중국은 500년의 대전쟁 시대를 겪는다. 가열찬 전란의 시대를 사는 소년 신은, 자신의 힘으로 천하에 이름을 떨칠 것을 맹세하는데……. KINGDOM © 2006 by Yasuhisa Hara/SHUEISHA Inc.\n",
      "금화 제국의 명문·성가(星家)는 황제 붕어와 함께, 일족 모두의 순장이 결정된다. 몸이 약한 성 가문의 도련님인 유규도 그 대상이 되었지만, 간신히 도망친다. 그러나 그는 쫓기는 몸이 되는데…? 자신의 지식에 의존해 궁지에서도 꿋꿋이 살아가는 중화풍 판타지 제1권!!\n",
      "천하에서 훔치지 못하는 것이 없다는 도적, 천리신투! 손속의 잔인함과 여색을 밝히는 천하의 으뜸인자, 수라 혈음귀! 마가에서 15년을 키웠다는 괴물, 유세옥! 무림통일을 노리는 음모속에서 무림의 법칙이 피를 토할때 중원의 소용돌이가 휘몰아친다!! 천녀 나찰령 3개를 가지면 천년 여문의 일천여 계집들을 모두 첩으로 부릴 수 있다는데…\n",
      "어릴때 부터 귀신이 씌여 무공 따위는 전혀 배우지도 못한 놈입니다. 그래서 천하의 유운이 아들 대신 다른 놈을 제자로 들인 것입죠. 그놈의 귀신 이름이… 귀설청이라던가 뭐라던가-..\n",
      "꿈처럼 아스라한 불멸의 명작! 춤처럼 아름다운 시대의 역작! 김혜린의 <비천무>가 RETRO PAN 시리즈로 부활한다. 1988년 초판에서 만난 그 느낌, 그 감흥, 그 추억을 그대로 살린 완벽 복원판이다. <북해의 별> 레트로판(전 20권)에 이은 또 하나의 쾌거다. <비천무>(전 10권)는 작가의 두 번째 장편이다. 18세기 유럽 배경의 거대 서사극 <북해의 별>로 화려하게 데뷔한 김혜린은 <비천무>로 더 큰 놀라움을 선사했다. 14세기 원\n",
      "스승의 유언으로 큰사형인 '파군성'을 찾으러 중원으로 떠나는 고구려 무장인 '연오랑'. 그러나 둘째사형의 모함으로 역적으로 몰려 나라에서 쫓겨나기 시작한다. 도중에 '월하랑'을 만나 목숨을 구하게 되지만, '월하랑'과 함께 중원의 거대한 음모에 휘말리게 되는데… ⓒ박성우. All rights reserved\n",
      "'도'를 기본으로 하는 신유도가의 후계자 유세옥과 검을 기본으로 하는 악가장의 후계자 악무영은 마주치기만 하면 서로가 잘났다고 싸움을 한다… 그러던 중 명화루에 절세 미녀 기녀가 새로 왔다는 소식을 듣고 둘은 그곳에서 또 마주치며, 새로운 기녀로 변장한 무림맹 순찰당주 살인사건의 용의자로 몰리며… 무림맹 개봉분타에 갇히게 된다. 사건을 맡은 무림맹 개봉분타주는 그들이 범인이 아닐 걸 알면서 사건 해결을 위해 신유도가와 악가장을 끌어들인다…\n",
      "서울 한복판을 중심으로 새로운 세상이 열린다!! 카타르시스한 엔돌핀이 샘솟는 코믹 무협!! <도망자><서울협객전><더블캐스팅><키드갱><강철강>등 코믹 액션의 진수 신영우가 돌아왔다!\n",
      "정통 무협 만화의 진수! 홍콩무협 만화의 전설 구복룡의 [철장종횡] !! 20년 전 한국에서 큰 아쉬움을 남기고 사라졌던 철장종횡이 새롭게 올 컬러 만화로 다시 돌아왔다. 도검합일 패업천추! 보도와 검이 합쳐지면 천추의 패업을 이루리라! 오대십국 말기, 당시에 전해져 내려오던 전설이 있었다. <기린지존>을 얻은 사람은 나라를 일으키어 천하를 얻을 수 있는 힘을 가질 수 있다는 전설이었다. 당나라의 개국군주 이연이 우연히 <기린지존>을 얻어 나라\n"
     ]
    }
   ],
   "source": [
    "ul = bsObject.select_one('ul.fig-1rl9mz1')\n",
    "for i in range(1,12): #페이지당 볼 수 있는 기사 수\n",
    "    titles = ul.select('#__next > main > div > section > ul.fig-1rl9mz1 > li:nth-child('+str(i)+')> div > div.fig-smbj6f > div > a > p')\n",
    "    for title in titles:\n",
    "        print(title.get_text())"
   ]
  },
  {
   "cell_type": "code",
   "execution_count": 61,
   "id": "8698255f-6d51-458c-947b-efffddbdaf1e",
   "metadata": {},
   "outputs": [],
   "source": [
    "from urllib.request import urlopen\n",
    "from bs4 import BeautifulSoup\n",
    "texts = []\n",
    "newurl = ('https://ridibooks.com/category/books/6105?page=1&order=popular')\n",
    "html = urlopen(newurl) \n",
    "bsObject = BeautifulSoup(html, \"html.parser\") \n",
    "ul = bsObject.select_one('ul.fig-1rl9mz1')\n",
    "for i in range(1,12): #페이지당 볼 수 있는 기사 수\n",
    "    titles = ul.select('#__next > main > div > section > ul.fig-1rl9mz1 > li:nth-child('+str(i)+')> div > div.fig-smbj6f > div > a > p')\n",
    "    for title in titles:\n",
    "        texts.append(title.get_text())"
   ]
  },
  {
   "cell_type": "code",
   "execution_count": 62,
   "id": "22a477eb-aabe-4aa2-9733-a3c17bea7981",
   "metadata": {
    "collapsed": true,
    "jupyter": {
     "outputs_hidden": true
    },
    "tags": []
   },
   "outputs": [
    {
     "data": {
      "text/plain": [
       "['인생의 밑바닥에 처박힌 그날 붉은 유성이 떨어졌다. 그날 이후, 똑같은 하루가 반복되는 기이한 운명의 변화가 시작되었으니… 잡아라! 구질구질한 과거를 뒤엎고, 무림과 상계를 통일한 천하제일의 영웅이 될 기회를..!!',\n",
       " '무림의 실권을 놓고 정파(正派)와 사파(邪派)가 대립하고 있던 혼란의 시대. 사파 무림지존인 천마신군의 6번째 제자인 한비광은 뛰어난 경공술을 지닌 무술의 천재이지만, 천성적으로 싸움을 싫어하는 평화주의자이다. 어느 날, 우연히 남장을 한 여검객 담화린을 보고 사랑에 빠지게 되는데... 그녀는 정파최고의 고수 검황의 손녀. 이때부터 한비광의 좌충우돌 무림기행시작되는데... [앞 내용은 단행본으로 감상하세요!]',\n",
       " '지금까지 한 번도 통일된 적이 없는 중국은 500년의 대전쟁 시대를 겪는다. 가열찬 전란의 시대를 사는 소년 신은, 자신의 힘으로 천하에 이름을 떨칠 것을 맹세하는데……. KINGDOM © 2006 by Yasuhisa Hara/SHUEISHA Inc.',\n",
       " '금화 제국의 명문·성가(星家)는 황제 붕어와 함께, 일족 모두의 순장이 결정된다. 몸이 약한 성 가문의 도련님인 유규도 그 대상이 되었지만, 간신히 도망친다. 그러나 그는 쫓기는 몸이 되는데…? 자신의 지식에 의존해 궁지에서도 꿋꿋이 살아가는 중화풍 판타지 제1권!!',\n",
       " '천하에서 훔치지 못하는 것이 없다는 도적, 천리신투! 손속의 잔인함과 여색을 밝히는 천하의 으뜸인자, 수라 혈음귀! 마가에서 15년을 키웠다는 괴물, 유세옥! 무림통일을 노리는 음모속에서 무림의 법칙이 피를 토할때 중원의 소용돌이가 휘몰아친다!! 천녀 나찰령 3개를 가지면 천년 여문의 일천여 계집들을 모두 첩으로 부릴 수 있다는데…',\n",
       " '어릴때 부터 귀신이 씌여 무공 따위는 전혀 배우지도 못한 놈입니다. 그래서 천하의 유운이 아들 대신 다른 놈을 제자로 들인 것입죠. 그놈의 귀신 이름이… 귀설청이라던가 뭐라던가-..',\n",
       " '꿈처럼 아스라한 불멸의 명작! 춤처럼 아름다운 시대의 역작! 김혜린의 <비천무>가 RETRO PAN 시리즈로 부활한다. 1988년 초판에서 만난 그 느낌, 그 감흥, 그 추억을 그대로 살린 완벽 복원판이다. <북해의 별> 레트로판(전 20권)에 이은 또 하나의 쾌거다. <비천무>(전 10권)는 작가의 두 번째 장편이다. 18세기 유럽 배경의 거대 서사극 <북해의 별>로 화려하게 데뷔한 김혜린은 <비천무>로 더 큰 놀라움을 선사했다. 14세기 원',\n",
       " \"스승의 유언으로 큰사형인 '파군성'을 찾으러 중원으로 떠나는 고구려 무장인 '연오랑'. 그러나 둘째사형의 모함으로 역적으로 몰려 나라에서 쫓겨나기 시작한다. 도중에 '월하랑'을 만나 목숨을 구하게 되지만, '월하랑'과 함께 중원의 거대한 음모에 휘말리게 되는데… ⓒ박성우. All rights reserved\",\n",
       " \"'도'를 기본으로 하는 신유도가의 후계자 유세옥과 검을 기본으로 하는 악가장의 후계자 악무영은 마주치기만 하면 서로가 잘났다고 싸움을 한다… 그러던 중 명화루에 절세 미녀 기녀가 새로 왔다는 소식을 듣고 둘은 그곳에서 또 마주치며, 새로운 기녀로 변장한 무림맹 순찰당주 살인사건의 용의자로 몰리며… 무림맹 개봉분타에 갇히게 된다. 사건을 맡은 무림맹 개봉분타주는 그들이 범인이 아닐 걸 알면서 사건 해결을 위해 신유도가와 악가장을 끌어들인다…\",\n",
       " '서울 한복판을 중심으로 새로운 세상이 열린다!! 카타르시스한 엔돌핀이 샘솟는 코믹 무협!! <도망자><서울협객전><더블캐스팅><키드갱><강철강>등 코믹 액션의 진수 신영우가 돌아왔다!',\n",
       " '정통 무협 만화의 진수! 홍콩무협 만화의 전설 구복룡의 [철장종횡] !! 20년 전 한국에서 큰 아쉬움을 남기고 사라졌던 철장종횡이 새롭게 올 컬러 만화로 다시 돌아왔다. 도검합일 패업천추! 보도와 검이 합쳐지면 천추의 패업을 이루리라! 오대십국 말기, 당시에 전해져 내려오던 전설이 있었다. <기린지존>을 얻은 사람은 나라를 일으키어 천하를 얻을 수 있는 힘을 가질 수 있다는 전설이었다. 당나라의 개국군주 이연이 우연히 <기린지존>을 얻어 나라']"
      ]
     },
     "execution_count": 62,
     "metadata": {},
     "output_type": "execute_result"
    }
   ],
   "source": [
    "texts"
   ]
  },
  {
   "cell_type": "code",
   "execution_count": 63,
   "id": "85924e60-6412-4723-af20-f17f7df8253d",
   "metadata": {},
   "outputs": [],
   "source": [
    "matching = [s for s in texts if\"마교\" in s]"
   ]
  },
  {
   "cell_type": "code",
   "execution_count": 64,
   "id": "f6b6f1c1-c9bd-41c3-8991-28f63e85c1ec",
   "metadata": {},
   "outputs": [
    {
     "data": {
      "text/plain": [
       "[]"
      ]
     },
     "execution_count": 64,
     "metadata": {},
     "output_type": "execute_result"
    }
   ],
   "source": [
    "matching #없다는게 보여진다."
   ]
  },
  {
   "cell_type": "code",
   "execution_count": null,
   "id": "36b67c57-ee07-4638-8719-54d93ed8be01",
   "metadata": {},
   "outputs": [],
   "source": [
    "import pandas as pd\n",
    "df = pd.DataFrame(texts, columns=[''])\n",
    "df.to_csv('newj.csv')"
   ]
  }
 ],
 "metadata": {
  "kernelspec": {
   "display_name": "Python 3 (ipykernel)",
   "language": "python",
   "name": "python3"
  },
  "language_info": {
   "codemirror_mode": {
    "name": "ipython",
    "version": 3
   },
   "file_extension": ".py",
   "mimetype": "text/x-python",
   "name": "python",
   "nbconvert_exporter": "python",
   "pygments_lexer": "ipython3",
   "version": "3.10.9"
  }
 },
 "nbformat": 4,
 "nbformat_minor": 5
}
