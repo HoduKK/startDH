{
 "cells": [
  {
   "cell_type": "code",
   "execution_count": 1,
   "id": "a3d6f3bb-d0c3-4c90-9fc7-dafdb2362f59",
   "metadata": {
    "collapsed": true,
    "jupyter": {
     "outputs_hidden": true
    },
    "tags": []
   },
   "outputs": [
    {
     "name": "stdout",
     "output_type": "stream",
     "text": [
      "Collecting selenium\n",
      "  Downloading selenium-4.9.1-py3-none-any.whl (6.6 MB)\n",
      "     ---------------------------------------- 6.6/6.6 MB 18.2 MB/s eta 0:00:00\n",
      "Requirement already satisfied: urllib3[socks]<3,>=1.26 in c:\\programdata\\anaconda3\\lib\\site-packages (from selenium) (1.26.11)\n",
      "Collecting trio~=0.17\n",
      "  Downloading trio-0.22.0-py3-none-any.whl (384 kB)\n",
      "     ------------------------------------- 384.9/384.9 kB 23.4 MB/s eta 0:00:00\n",
      "Collecting trio-websocket~=0.9\n",
      "  Downloading trio_websocket-0.10.2-py3-none-any.whl (17 kB)\n",
      "Requirement already satisfied: certifi>=2021.10.8 in c:\\programdata\\anaconda3\\lib\\site-packages (from selenium) (2022.9.14)\n",
      "Requirement already satisfied: sortedcontainers in c:\\programdata\\anaconda3\\lib\\site-packages (from trio~=0.17->selenium) (2.4.0)\n",
      "Requirement already satisfied: sniffio in c:\\programdata\\anaconda3\\lib\\site-packages (from trio~=0.17->selenium) (1.2.0)\n",
      "Requirement already satisfied: attrs>=19.2.0 in c:\\programdata\\anaconda3\\lib\\site-packages (from trio~=0.17->selenium) (21.4.0)\n",
      "Collecting async-generator>=1.9\n",
      "  Downloading async_generator-1.10-py3-none-any.whl (18 kB)\n",
      "Collecting outcome\n",
      "  Downloading outcome-1.2.0-py2.py3-none-any.whl (9.7 kB)\n",
      "Requirement already satisfied: cffi>=1.14 in c:\\programdata\\anaconda3\\lib\\site-packages (from trio~=0.17->selenium) (1.15.1)\n",
      "Requirement already satisfied: idna in c:\\programdata\\anaconda3\\lib\\site-packages (from trio~=0.17->selenium) (3.3)\n",
      "Collecting exceptiongroup>=1.0.0rc9\n",
      "  Downloading exceptiongroup-1.1.1-py3-none-any.whl (14 kB)\n",
      "Collecting wsproto>=0.14\n",
      "  Downloading wsproto-1.2.0-py3-none-any.whl (24 kB)\n",
      "Requirement already satisfied: PySocks!=1.5.7,<2.0,>=1.5.6 in c:\\programdata\\anaconda3\\lib\\site-packages (from urllib3[socks]<3,>=1.26->selenium) (1.7.1)\n",
      "Requirement already satisfied: pycparser in c:\\programdata\\anaconda3\\lib\\site-packages (from cffi>=1.14->trio~=0.17->selenium) (2.21)\n",
      "Collecting h11<1,>=0.9.0\n",
      "  Downloading h11-0.14.0-py3-none-any.whl (58 kB)\n",
      "     ---------------------------------------- 58.3/58.3 kB ? eta 0:00:00\n",
      "Installing collected packages: outcome, h11, exceptiongroup, async-generator, wsproto, trio, trio-websocket, selenium\n",
      "Successfully installed async-generator-1.10 exceptiongroup-1.1.1 h11-0.14.0 outcome-1.2.0 selenium-4.9.1 trio-0.22.0 trio-websocket-0.10.2 wsproto-1.2.0\n"
     ]
    }
   ],
   "source": [
    "!pip install selenium\n"
   ]
  },
  {
   "cell_type": "code",
   "execution_count": 35,
   "id": "ea2cb3aa-c04f-465e-ac42-87bc317408ef",
   "metadata": {},
   "outputs": [
    {
     "name": "stdout",
     "output_type": "stream",
     "text": [
      "완료\n"
     ]
    }
   ],
   "source": [
    "from selenium import webdriver\n",
    "import time\n",
    "from selenium.webdriver.common.by import By\n",
    "from selenium.webdriver.common.keys import Keys\n",
    "driver = webdriver.Chrome()\n",
    "url = 'https://ridibooks.com/category/books/6105?page=1&order=popular'\n",
    "driver.get(url)\n",
    "time.sleep(1)\n",
    "ax ='#__next > main > div > section > ul.fig-1rl9mz1 > li:nth-child(1) > div > div.fig-smbj6f > div > a'\n",
    "while True:\n",
    "    old_height = driver.execute_script('return window.pageYOffset')     \n",
    "    driver.find_element(By.CSS_SELECTOR, 'body').send_keys(Keys.PAGE_DOWN)\n",
    "    time.sleep(0.5)\n",
    "    now_height = driver.execute_script('return window.pageYOffset') \n",
    "    if now_height == old_height: \n",
    "        break\n",
    "contents = driver.find_elements(By.CLASS_NAME,\"fig-17nsr7f\")\n",
    "contentstext = []\n",
    "for i in contents:\n",
    "    contentstext.append(i.text)\n",
    "print('완료')"
   ]
  },
  {
   "cell_type": "code",
   "execution_count": 36,
   "id": "a04035de-e838-46d0-a8fb-c5caedd473a3",
   "metadata": {},
   "outputs": [
    {
     "data": {
      "text/plain": [
       "['인생의 밑바닥에 처박힌 그날 붉은 유성이 떨어졌다. 그날 이후, 똑같은 하루가 반복되는 기이한 운명의 변화가 시작되었으니… 잡아라! 구질구질한 과거를 뒤엎고, 무림과 상계를 통일한 천하제일의 영웅이 될 기회를..!!',\n",
       " '무림의 실권을 놓고 정파(正派)와 사파(邪派)가 대립하고 있던 혼란의 시대. 사파 무림지존인 천마신군의 6번째 제자인 한비광은 뛰어난 경공술을 지닌 무술의 천재이지만, 천성적으로 싸움을 싫어하는 평화주의자이다. 어느 날, 우연히 남장을 한 여검객 담화린을 보고 사랑에 빠지게 되는데... 그녀는 정파최고의 고수 검황의 손녀. 이때부터 한비광의 좌충우돌 무림기행시작되는데... [앞 내용은 단행본으로 감상하세요!]',\n",
       " '지금까지 한 번도 통일된 적이 없는 중국은 500년의 대전쟁 시대를 겪는다. 가열찬 전란의 시대를 사는 소년 신은, 자신의 힘으로 천하에 이름을 떨칠 것을 맹세하는데……. KINGDOM © 2006 by Yasuhisa Hara/SHUEISHA Inc.',\n",
       " '금화 제국의 명문·성가(星家)는 황제 붕어와 함께, 일족 모두의 순장이 결정된다. 몸이 약한 성 가문의 도련님인 유규도 그 대상이 되었지만, 간신히 도망친다. 그러나 그는 쫓기는 몸이 되는데…? 자신의 지식에 의존해 궁지에서도 꿋꿋이 살아가는 중화풍 판타지 제1권!!',\n",
       " '천하에서 훔치지 못하는 것이 없다는 도적, 천리신투! 손속의 잔인함과 여색을 밝히는 천하의 으뜸인자, 수라 혈음귀! 마가에서 15년을 키웠다는 괴물, 유세옥! 무림통일을 노리는 음모속에서 무림의 법칙이 피를 토할때 중원의 소용돌이가 휘몰아친다!! 천녀 나찰령 3개를 가지면 천년 여문의 일천여 계집들을 모두 첩으로 부릴 수 있다는데…',\n",
       " '어릴때 부터 귀신이 씌여 무공 따위는 전혀 배우지도 못한 놈입니다. 그래서 천하의 유운이 아들 대신 다른 놈을 제자로 들인 것입죠. 그놈의 귀신 이름이… 귀설청이라던가 뭐라던가-..',\n",
       " '꿈처럼 아스라한 불멸의 명작! 춤처럼 아름다운 시대의 역작! 김혜린의 <비천무>가 RETRO PAN 시리즈로 부활한다. 1988년 초판에서 만난 그 느낌, 그 감흥, 그 추억을 그대로 살린 완벽 복원판이다. <북해의 별> 레트로판(전 20권)에 이은 또 하나의 쾌거다. <비천무>(전 10권)는 작가의 두 번째 장편이다. 18세기 유럽 배경의 거대 서사극 <북해의 별>로 화려하게 데뷔한 김혜린은 <비천무>로 더 큰 놀라움을 선사했다. 14세기 원',\n",
       " \"스승의 유언으로 큰사형인 '파군성'을 찾으러 중원으로 떠나는 고구려 무장인 '연오랑'. 그러나 둘째사형의 모함으로 역적으로 몰려 나라에서 쫓겨나기 시작한다. 도중에 '월하랑'을 만나 목숨을 구하게 되지만, '월하랑'과 함께 중원의 거대한 음모에 휘말리게 되는데… ⓒ박성우. All rights reserved\",\n",
       " \"'도'를 기본으로 하는 신유도가의 후계자 유세옥과 검을 기본으로 하는 악가장의 후계자 악무영은 마주치기만 하면 서로가 잘났다고 싸움을 한다… 그러던 중 명화루에 절세 미녀 기녀가 새로 왔다는 소식을 듣고 둘은 그곳에서 또 마주치며, 새로운 기녀로 변장한 무림맹 순찰당주 살인사건의 용의자로 몰리며… 무림맹 개봉분타에 갇히게 된다. 사건을 맡은 무림맹 개봉분타주는 그들이 범인이 아닐 걸 알면서 사건 해결을 위해 신유도가와 악가장을 끌어들인다…\",\n",
       " '서울 한복판을 중심으로 새로운 세상이 열린다!! 카타르시스한 엔돌핀이 샘솟는 코믹 무협!! <도망자><서울협객전><더블캐스팅><키드갱><강철강>등 코믹 액션의 진수 신영우가 돌아왔다!',\n",
       " '정통 무협 만화의 진수! 홍콩무협 만화의 전설 구복룡의 [철장종횡] !! 20년 전 한국에서 큰 아쉬움을 남기고 사라졌던 철장종횡이 새롭게 올 컬러 만화로 다시 돌아왔다. 도검합일 패업천추! 보도와 검이 합쳐지면 천추의 패업을 이루리라! 오대십국 말기, 당시에 전해져 내려오던 전설이 있었다. <기린지존>을 얻은 사람은 나라를 일으키어 천하를 얻을 수 있는 힘을 가질 수 있다는 전설이었다. 당나라의 개국군주 이연이 우연히 <기린지존>을 얻어 나라',\n",
       " '손자라고 불리운 병법가는 사실은 두 사람이다. 한 사람은 춘추시대에 활약한 손무이고 다른 한 사람은 그의 후손으로 전국시대 제나라의 위왕의 참모로 활약한 손빈이다. \"사기\" 손자오기열전에도 손무의 후손으로 명확하게 기록되어 있다. 그는 기마병과 공성전이 중시되는 전국시대의 달라진 전쟁 형태를 그대로 자신의 병법에 반영하고 있었다. 그러나 그의 병서인 손빈병법은 2,300여 년 동안 사라진 채 전설로만 전해지다가 1970년에 다시 발견되었다.',\n",
       " '칼을 든 자! 피를 흘리는 자! 그들도 사랑을 하는가?! 사랑보다 인생보다 刀를 더 사랑한 사나이의 이야기!! 그대 완벽한 칼을 가진 협객이여…… 그러하기에 그대들의 눈물 또한 가슴 시린다.',\n",
       " '태어남이 악몽이었다! 그리하여 이름이 악.몽.이다!...검을 다스리는 자! 천하를 얻고 지혜를 깨우친 자! 영웅을 거느린다. 살을 에는듯한 에로티시즘과 신무협의 환상적인 만남…그것이 악몽과의 만남이니…',\n",
       " '청부를 받고 문제를 해결해주는 일을 하는 세옥. 세옥의 아버지는 천하제일검으로 불리던 천검 유검학, 어머니는 월궁 항아. 그러나 그의 어머니는 세옥이 어렸을때 세옥의 아버지와의 결투에서 이긴 현재의 천하제일검인 검제 엽무를 따라갔다. 세옥의 아버지는 술주정뱅이에 폐인이 되고. 세옥이 마음속에 사랑하는 여인은 그의 어머니… 어머니를 되찾기 위해서는 검제 엽무를 꺾어야 한다…. 청부를 해결하며 무공을 강하게 쌓아가는, 조금씩 검제에게 다가가는 세옥',\n",
       " '스스로 죽는 자객이란 없다. 스스로 죽어서야 자객이라 할 수 있겠는가… 인생의 쾌락에는 여러가지가 있다! 여자.살인…그중에 가장 괜찮은 것이 자살인지도 모른다. 죽어갈때의 그 절정감을 나는 아직 모르지만…꽤…괜찮지 않을까?',\n",
       " '하늘 아래 당(唐)의 뜻 아닌 것 없나니, 외로운 판관 하나가 무림을 뒤흔든다! 피눈물로 혈하가 굽이치고, 단장의 고통으로 천지간에 비탄의 메아리가 울려퍼진다…!',\n",
       " '하수팔철칙 一 하수는 음흉해야 한다. 二 하수는 눈치가 빨라야 한다. 三 하수는 절대 화를 내면 안 된다. 四 하수는 절대 검을 함부로 뽑으면 안 된다. 五 하수는 시비를 만들어서는 안 된다. 六 하수는 미인을 멀리해야 한다. 七 하수는 결코 자신보다 낮은 하수와 어울리면 안 된다. 八 하수는 자신의 분수를 알아야 한다. 나는 일찍이 이러한 하수 팔 철칙을 지킨다면 고수로 행세할 수 있다는 것을 깨달았다.',\n",
       " '무림계의 새로운 검귀, ‘추공’ 서태후의 쾌락을 시중드는 환관 노릇으로 막강한 권력과 조직을 가지고 있는 무협의 고수 ‘무가량’의 아들이지만, 결코 아들로서 인정받을 수 없는 존재다. ‘무가량’은 자신의 권력을 유지하기 위해, 혹은 자신의 치부를 감추기 위해 ‘추공’을 이용하거나 해하려 하며 결국 정인인 ‘초설아’마저 잃게 만든다. 이에 ‘추공’은 자신의 권력과 안위를 위해 자신을 부정하고 해하며 정인까지 잃게 만든 아버지에 대한 분노와 자신을',\n",
       " '동영의 새로운 문파인 은검류의 문주 준인천은은 다시 한번 중원 통일의 야심을 드러낸다. 한편, 섭풍과 보경운은 일대 기인 소삼소의 추배비권의 예언대로 중원에 일어날 천추대겁을 막기 위해 각각 정과 사로 나뉜, 경운도와 신풍맹을 설립하게 되는데… 과연 앞으로 중원 무림에 무슨 일이 일어날 것인가? ※ <풍운 4부> 에서는 국내에 미출간 되었던 <풍운> 단행본 87권 부터의 내용이 연재됩니다.',\n",
       " '홍콩 최고의 판타지 만화의 진수! 서유기 그 후, 더 넓어진 세계관으로 이어지다. 몇십 년간 이어져온 홍콩 컬러 만화와 중국 고전의 환상적인 만남 당삼장은 서천 극락에서 세상 사람들의 고통을 덜어 주기 위해 [기경]을 세상에 가지고 나오지만 그것이 잘못된 생각이라는 것을 깨닫고 다시 [기경]을 가지고 서천 극락 세계로 길을 떠난다. 인간 세계와 서천 극락세계를 통하는 [요괴대도]의 여정은 우리들을 판타지 세계로 인도하며 무한한 상상력에 빠지게',\n",
       " '호랑이가 쥐를 쓰러뜨릴 때 이빨도 필요치 않다.',\n",
       " '의로운 분노가 세상을 태운다. 사랑의 열정이 죽음을 태운다. 염왕의 천하가 거대한 불로 일어난다.',\n",
       " \"마스미를 구하러 가던 도중 어느 산골 마을에서 오호신 중 한 명 백명호의 함정에 빠져 독을 마시지만 「 진제」 가 가진 '치유의 힘'에 의해 구사일생으로 목숨을 건진 시로. 한편, 황군 60만 대 조조군 10만의 전면전은 황제를 빼앗긴 황군의 패주로 막을 내린다. 허도로 귀환한 황군은 승상 '중달'이 실종된 가운데, 조조군이 추격해올까 두려워하며 앞으로의 방침을 둘러싸고 열띤 논의를 벌이는데!! ⓒYoshito Yamahara/Kodansha\",\n",
       " '\"풍운을 만나 천하를 얻고 풍운으로 인해 망할 것이다\" 하늘이 정해준 운명에서 벗어나지 못하는 천하회 장문 \\'웅패\\'. 그는 자신의 운명대로 \\'섭풍\\'과 \\'보경운\\'을 만나 제자로 받아들이며 천하를 얻지만 몇년 뒤 풍운으로 인해 천하회는 멸망하기 직전이다. 그들의 복수와 운명을 뒤바꾸기 위한 싸움. 과연 이 무림의 승자는 누가 될 것인가?!',\n",
       " '천하를 호령하는 위대한 영웅들의 장쾌한 대서사시!!',\n",
       " '황량한 황야, 그 끝 어딘가… 스러져 가는 성채에 개와 까마귀를 벗 삼아 살아가는 혈무. 그는 죽은 자를 살려낼 수 있을 만큼 강력하고도 신비한 힘을 지닌 인물이지만 세상을 향해 마음을 닫고 살아간다. 조용한 일상을 보내던 그에게 어느 날, 뜻밖의 인물이 찾아와 문을 두드리고, 한시도 잊지 못했던 과거의 상처가 다시 재현되는데…! 인간을 향한, 세상을 향한 혈무의 뜨거운 분노가 전장을 채운다!!',\n",
       " '꽃의 아름다움이 눈부시게 현란하고 흐르는 맑은 물이 지나쳐 심장을 전율케 하니 끝내 천하의 명검은 그 빛을 발하여 가장 사랑하는 이를 해치고야 말리라.',\n",
       " '「용랑전」에서 「용랑전 중원요란편」으로 새로운 ‘삼국지의 역사가 움직이기 시작한다!! 중원에 모인 용과 영웅호걸! 조조군 VS 주유군, 전면대결!! 수학여행 중 현대에서 207년 형주(荊州)로 타임슬립한 시로는, 그 재능과 미래를 아는 지식으로 유비군의 군사(軍師)가 된다. 장판파, 적벽, 허도, 흉노 등 수많은 전장에서 ‘용의 아이’로서 성장하는 시로…. 용이 내려온 땅― ‘중원’을 무대로 다시 ‘용의 아이’의 전설이 시작된다!! ⓒYoshi',\n",
       " '<용비불패>의 흥행신화를 이어갈 또 하나의 역작. 재미의 보증수표 류기운 작가의 신감각 무협 판타지. 때는 제 3차 정사대전. 1,2차 때와는 달리 수세에 몰린 정파 세력 중 변두리의 작은 문파에 불과한 ‘비연문’은 풍전등화의 위기에 처하게 되고, 그들에게 도움을 청할 사람이라고는 귀운곡에 은거하고 있는 비연절검 임호충뿐. 그를 찾기 위해 비연문주의 딸 남소향이 귀운곡으로 향하지만 도중에 사파의 습격으로 부하들을 모두 잃고 산속을 헤매다 난데없',\n",
       " \"북두전설, 또다시!! 마도(魔都) 상하이의 소란 이후 몇 년이 지난 193×년. 천수의 의식을 끝마친 제62대 북두신권 전승자 카스미 켄시로는 멈추지 않는 역사의 소용돌이에 휘말려 옥도(獄都) 인도네시아에 내려선다. 인류의 보배 '희망의 목록'을 둘러싸고 새로운 세력이 에리카를 노리는 가운데, 북두의 숙명이 켄시로를 피비린내 나는 전쟁터로 인도한다. 「북두의 권」으로 연결되는 새로운 북두 사가 개막!! ⓒTETSUO HARA/BURONSON/C\",\n",
       " '난 절대 소인배처럼 살아가지 않는다!! 난 크게 살고 크게 죽어갈 것이다!!!',\n",
       " \":::본 작품은 매주 목요일 5화씩 연재됩니다::: 미리 말해 주지. 좋은 시간 이었네. 내가 이기든, 자네가 이기든. 천하제일인 독고청! 그가 남겼으나 버려진 유산 '총명침'이 단돈 한 냥에 주인을 만났다! 원하든 원치 않던 운명적으로 엮어지는 것… 가만히 있어도 저절로 다가오는 것… 하늘이 정한 인연(因緣)이란 그런 것이다. 바로 용천산과 총명침의 만남이 그러하듯…!\",\n",
       " '로봇과 샤머니즘의 만남. 주인공 수호는 귀신을 눈으로 볼 수 있는 영적 능력을 가지고 있다. 수호의 엄마는 전국에서 유명했던 무당. 하지만 수년전 수호에게 수수께끼와 같은 말을 남기고 사라진다. 엄마 없이 자란 수호는 대학에 입학하고 군대를 다녀온다. 그리고 전통문화연구 동아리에 가입하지만 그곳에서 의문의 여자 마고를 만난다. 첫 만남에서 마고와 퇴마 활동을 벌인 수호에게 마고는 소리 소문 없이 사라지고 며칠이 지난 후, 다시 수호 앞에 나타나',\n",
       " '팔용신전설의 못다 한 이야기 환상의 대륙 공존계… 그곳엔 <오더>라고 하는 거대한 왕국이 있었다. 대륙 북부에 위치한 이 왕국은 천 년이라는 긴 세월 속에서 꽃 피워 온 최고의 문화를 간직한 곳이었다. 그러나… ⓒ박성우. All rights reserved',\n",
       " '그들은 신이 숨기고 싶어 하는 것을 찾는 인간들이다. 그래서 파멸되어야 한다. 그들에게 몰락의 시간이 밤안개처럼 밀려왔다. 십왕련(十王聯). 오로지 영령촌을 무너뜨리기 위해 결성된 천하무림의 대연합. 그리고 종이꽃의 슬픈 전설처럼 그들은 몰락했다. 나후! 너는 악마의 딸. 너는 어둠이 태양을 지배하는 어둠 속에서 악마의 숨결처럼 태어났다. 가슴에 숨겨진 악마의 마성을 정갈하게 태우지 못하면 너는 악마의 딸이 된다. 어둠을 지배하는 악마의 딸이.',\n",
       " '쓰레기처럼 살다 죽음으로 회귀했다. 그토록 바꾸고 싶던 미래를 내 손으로 움켜쥐겠다. 최고의 건달이 되어주마!',\n",
       " '나는 나를 찾아 세상을 떠돌았다. 북해의 동토에서부터 흑안귀들이 사는 바다 건너 열사의 땅까지, 무려 칠백 년 동안이나... 하지만 나는 외로웠다. 그날 이후 나는 세상을 등졌다.',\n",
       " '자유롭게 해 드리겠습니다! 그것이 시작이었다. 그리고 시작되었다. 작은 날개가 자라 거대한 신조의 날개가 되는 역사적인 순간이...! 그녀를 가둔 철장을 열기 위해 처음으로 날개를 편 것은...',\n",
       " '단랑과의 일전으로 또다시 중원을 구하고 잠적한 풍운. 잠적한 후 어느덧 20년이 흐르고, 강호엔 또 다른 인물들이 등장하는데… 단랑의 아들 신봉과 섭풍의 아들 역풍, 보경운의 아들 보천. 이들이 새로운 무림의 강자로 떠오르며 정과 사의 숙명을 파괴하기 위해 강호의 험난한 여정을 시작하게 된다. 새롭게 변신해 나타난 절심. 중원 무림의 최강자가 되기 위한 그의 계획은 이들 모두를 운명의 수레바퀴 속으로 밀어 넣는데…',\n",
       " '죽음의 결전 후 마에 빠진 섭풍을 살리고 절벽 아래로 떨어진 보경운. 생사의 우정을 나누며 중원을 지키기 위해 서로 죽이려는 참극까지 만들어낸 두 영웅, 풍운을 기리기 위해 무림인들은 비석과 동상을 세워 그 둘을 기념하였다. 중원과 동영의 참사 이후, 많은 무림인들이 죽었으나, 풍운이 사라진 12년 후, 새로운 기원이 탄생했고 후배들이 등장하자 모두들 다시 무림의 전기를 일으키기를 갈망했다. 중원에 새롭게 나타난 제석천의 등장으로 중원 무림은',\n",
       " '공존계 최강의 마검사 카드무스의 수제자인 진룡. 8용신전사의 한 명으로써 다른 8용신전사와 함께, 마황 천마뇌제를 쓰러뜨리기 위해 모험을 시작한다. ⓒ박성우. All rights reserved',\n",
       " '사면초가에 빠졌을 때는 무조건 북풍반점에 가서 한 끼 식사를 주문하라! 천하제일의 요리를 배우고 싶으냐? 천하제일의 요리사가 되기 위하여 지옥불에 뛰어들 각오가 되어있다면 내게 오라!',\n",
       " '이 세상 어느 깊은 곳에 감춘 보물이라도 기필코 찾아내는 천재 도둑 이야기!! 신출귀몰의 대도가 이 세상을 발칵 뒤집는다!!',\n",
       " '부패한 정파 무림의 상징인 무림맹. 그들은 더 이상 민초들을 지켜주지 않는다. 그리고 촌구석에서 자신들의 숙명조차 모르는 절대성(絶代星)을 타고난 두 형제. 대의(大義)도, 신념도 필요치 않다. 그가 원하는 것은 오로지 무림맹의 파멸뿐. 천하의 흉적이 되어도 상관없다. 그 누구도 꺼뜨릴 수 없는 이 불타오르는 혼이 이끄는 길을 따라라!',\n",
       " '여의주가 없어 승천하지 못하는 용과, 용을 잡아야 하는 용천산과의 괴이한 거래는 그렇게 시작되었다. 용도 인정한 용천산의 순수함. 강호를 휩쓸어버릴 정도의 강인함. 어느 누구도 예측할 수 없는 그의 행보. \"나를 막아서는 자가 있다면, 모조리 부숴버리겠다!\"']"
      ]
     },
     "execution_count": 36,
     "metadata": {},
     "output_type": "execute_result"
    }
   ],
   "source": [
    "contentstext"
   ]
  },
  {
   "cell_type": "code",
   "execution_count": null,
   "id": "ee2a56bc-12cc-42a2-8d83-6f4f352c9348",
   "metadata": {
    "tags": []
   },
   "outputs": [
    {
     "name": "stdout",
     "output_type": "stream",
     "text": [
      "완료\n"
     ]
    }
   ],
   "source": [
    "import pandas as pd\n",
    "who = driver.find_elements(By.CSS_SELECTOR, \"#author-text > span\")\n",
    "reply = driver.find_elements(By.CSS_SELECTOR, \"#content-text\")\n",
    "replywho = []\n",
    "for i in who:\n",
    "    replywho.append(i.text)\n",
    "replytext = []\n",
    "for i in reply:\n",
    "    replytext.append(i.text)\n",
    "df = pd.DataFrame({'id':replywho,'reply':replytext})\n",
    "df.to_csv('youtubereply.csv')\n",
    "print('완료')\n"
   ]
  },
  {
   "cell_type": "code",
   "execution_count": null,
   "id": "e9f99a98-c3ce-4126-a529-bb8885d0bb59",
   "metadata": {},
   "outputs": [],
   "source": [
    "from selenium import webdriver\n",
    "import time\n",
    "from selenium.webdriver.common.by import By\n",
    "from selenium.webdriver.common.keys import Keys\n",
    "from selenium.common.exceptions import NoSuchElementException\n",
    "driver = webdriver.Chrome()\n",
    "driver.get('https://page.kakao.com/content/61729411’)\n",
    "time.sleep(1)\n",
    "scrollbutton = '#__next > div > div.flex.w-full.grow.flex-col.px-122pxr > div.flex.h-full.flex-1 > \\\n",
    "div.mb-28pxr.ml-4px.flex.w-632pxr.flex-col > div:nth-child(2) > div.mt-4pxr.bg-bg-a-20 > div > div > \\\n",
    "div.flex.flex-1.flex-col > div.flex.cursor-pointer.items-center.justify-center.py-8pxr > img'\n",
    "while True:\n",
    "    try:\n",
    "        button = driver.find_element(By.CSS_SELECTOR, scrollbutton)\n",
    "        button.click()\n",
    "        time.sleep(0.5)\n",
    "    except NoSuchElementException :\n",
    "        print(\"더이상 스크롤 버튼이 없습니다.\")\n",
    "        break\n",
    "reply = driver.find_elements(By.CLASS_NAME, \"break-word-anywhere\")\n",
    "replytexts = []\n",
    "for i in reply:\n",
    "    replytexts.append(i.text)\n"
   ]
  }
 ],
 "metadata": {
  "kernelspec": {
   "display_name": "Python 3 (ipykernel)",
   "language": "python",
   "name": "python3"
  },
  "language_info": {
   "codemirror_mode": {
    "name": "ipython",
    "version": 3
   },
   "file_extension": ".py",
   "mimetype": "text/x-python",
   "name": "python",
   "nbconvert_exporter": "python",
   "pygments_lexer": "ipython3",
   "version": "3.9.13"
  }
 },
 "nbformat": 4,
 "nbformat_minor": 5
}
