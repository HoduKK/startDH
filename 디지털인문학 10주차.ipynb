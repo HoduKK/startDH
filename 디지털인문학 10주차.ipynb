{
 "cells": [
  {
   "cell_type": "code",
   "execution_count": 1,
   "id": "245675b5-1d33-4a0d-a163-6cf59c86197d",
   "metadata": {},
   "outputs": [],
   "source": [
    "import pandas as pd"
   ]
  },
  {
   "cell_type": "code",
   "execution_count": 2,
   "id": "0e445a98-d6cd-4e3b-bd5d-b4852e43fb47",
   "metadata": {},
   "outputs": [],
   "source": [
    "saram = pd.DataFrame({'이름':['김상봉','이인자','박상남'],\n",
    "                      '성별':['남','여','남'],\n",
    "                      '나이':[56,34,70],\n",
    "                      '키':[171,156,163],\n",
    "                      '몸무게':[78,45,65]})"
   ]
  },
  {
   "cell_type": "code",
   "execution_count": 3,
   "id": "5b0c9327-18fb-4e4f-b8f6-d04e42941911",
   "metadata": {},
   "outputs": [],
   "source": [
    "saram"
   ]
  },
  {
   "cell_type": "code",
   "execution_count": 5,
   "id": "c3b8a3ea-12f7-4238-9ff2-7b24ec31b2f0",
   "metadata": {},
   "outputs": [],
   "source": [
    "saram['이름']"
   ]
  },
  {
   "cell_type": "code",
   "execution_count": 7,
   "id": "4aeb5fca-cb71-445c-b494-1f5d74d52ab3",
   "metadata": {},
   "outputs": [],
   "source": [
    "saram['키']"
   ]
  },
  {
   "cell_type": "code",
   "execution_count": null,
   "id": "520f35fa-e3f3-4864-b4bd-3586cf5c7979",
   "metadata": {},
   "outputs": [],
   "source": []
  },
  {
   "cell_type": "code",
   "execution_count": 15,
   "id": "7f76395c-47aa-4b84-94b7-00e940fef1bb",
   "metadata": {},
   "outputs": [],
   "source": [
    "saram"
   ]
  },
  {
   "cell_type": "code",
   "execution_count": 16,
   "id": "1867e8b8-e8f0-451b-b251-ec2c6a2b183c",
   "metadata": {},
   "outputs": [],
   "source": [
    "saram['이름','나이']"
   ]
  },
  {
   "cell_type": "code",
   "execution_count": 17,
   "id": "bc009090-5526-4a4a-963a-d001555c6711",
   "metadata": {},
   "outputs": [],
   "source": [
    "sum(saram['키'])"
   ]
  },
  {
   "cell_type": "code",
   "execution_count": 18,
   "id": "52b65d3a-9f4f-49f0-80ac-ef77d525af7b",
   "metadata": {},
   "outputs": [],
   "source": [
    "saram['키']"
   ]
  },
  {
   "cell_type": "code",
   "execution_count": 19,
   "id": "9f90e226-7d0b-4522-93c5-64b5b4c7904b",
   "metadata": {},
   "outputs": [],
   "source": [
    "saram['나이']"
   ]
  },
  {
   "cell_type": "code",
   "execution_count": 26,
   "id": "14221856-a152-43c0-b008-b8a9a36ae22b",
   "metadata": {},
   "outputs": [],
   "source": [
    "len(saram['나이'])"
   ]
  },
  {
   "cell_type": "code",
   "execution_count": 25,
   "id": "3821e408-5663-46ed-8f9d-5177b88a57fe",
   "metadata": {},
   "outputs": [],
   "source": [
    "pd.read_csv('cccccc.csv')"
   ]
  },
  {
   "cell_type": "code",
   "execution_count": 29,
   "id": "cbbb9683-470d-4884-98bb-d67a7f3aa8e3",
   "metadata": {},
   "outputs": [],
   "source": [
    "saram['키'].mean()"
   ]
  },
  {
   "cell_type": "code",
   "execution_count": 30,
   "id": "19ed4cf0-57ee-4082-a4c5-26f2c3e42a2a",
   "metadata": {},
   "outputs": [],
   "source": [
    "saram.to_csv(\"saram.csv\")"
   ]
  },
  {
   "cell_type": "code",
   "execution_count": 31,
   "id": "50029aae-b45a-4f05-a8fe-79bc62265da6",
   "metadata": {},
   "outputs": [],
   "source": [
    "cccccc=pd.read_csv('cccccc.csv')"
   ]
  },
  {
   "cell_type": "code",
   "execution_count": 32,
   "id": "5a156c50-9260-4245-ba11-3c32e4b2c260",
   "metadata": {},
   "outputs": [],
   "source": [
    "cccccc"
   ]
  },
  {
   "cell_type": "code",
   "execution_count": 33,
   "id": "720ed0ca-c2d2-452b-925c-955f668d0b1b",
   "metadata": {},
   "outputs": [],
   "source": [
    "cccccc.head()"
   ]
  },
  {
   "cell_type": "code",
   "execution_count": 34,
   "id": "0b5f612e-f7b2-4ab9-a204-19bad3315b1d",
   "metadata": {},
   "outputs": [],
   "source": [
    "cccccc.head(10)"
   ]
  },
  {
   "cell_type": "code",
   "execution_count": 35,
   "id": "8b14a723-7825-4019-abcd-e0d6669bdc95",
   "metadata": {},
   "outputs": [],
   "source": [
    "cccccc.tail()"
   ]
  },
  {
   "cell_type": "code",
   "execution_count": 36,
   "id": "2bee62a9-729c-4050-811d-d4f4550f98c6",
   "metadata": {},
   "outputs": [],
   "source": [
    "cccccc.shape"
   ]
  },
  {
   "cell_type": "code",
   "execution_count": 38,
   "id": "65aff64e-05ad-4248-acdc-776c9d3afece",
   "metadata": {},
   "outputs": [],
   "source": [
    "cccccc.info()"
   ]
  },
  {
   "cell_type": "code",
   "execution_count": 39,
   "id": "87377b2c-a7c2-4cc7-97a8-33cdf9f35dcc",
   "metadata": {},
   "outputs": [],
   "source": [
    "cccccc.describe()"
   ]
  },
  {
   "cell_type": "code",
   "execution_count": 40,
   "id": "49bb8351-ee83-4715-b923-2ecf08a3525e",
   "metadata": {},
   "outputs": [],
   "source": [
    "cc2 = cccccc.copy()"
   ]
  },
  {
   "cell_type": "code",
   "execution_count": 41,
   "id": "3aa1dc7b-cca6-4b16-89c3-2b70c06493d4",
   "metadata": {},
   "outputs": [],
   "source": [
    "cc2"
   ]
  },
  {
   "cell_type": "code",
   "execution_count": 44,
   "id": "e352f5f7-8f15-497f-9256-064d7cccb857",
   "metadata": {},
   "outputs": [],
   "source": [
    "cc2 = cccccc.rename(columns = {'살인':'Killing'})\n"
   ]
  },
  {
   "cell_type": "code",
   "execution_count": 43,
   "id": "f60503a1-0d6f-41cd-80ac-111b48eb9515",
   "metadata": {},
   "outputs": [],
   "source": [
    "cccccc"
   ]
  },
  {
   "cell_type": "code",
   "execution_count": 45,
   "id": "3da10a29-fdad-495b-9584-c8b97d25415a",
   "metadata": {},
   "outputs": [],
   "source": [
    "cc2"
   ]
  },
  {
   "cell_type": "code",
   "execution_count": 46,
   "id": "76d0c3e6-9306-4330-a9cd-bda701845408",
   "metadata": {},
   "outputs": [
    {
     "data": {
      "text/html": [
       "<div>\n",
       "<style scoped>\n",
       "    .dataframe tbody tr th:only-of-type {\n",
       "        vertical-align: middle;\n",
       "    }\n",
       "\n",
       "    .dataframe tbody tr th {\n",
       "        vertical-align: top;\n",
       "    }\n",
       "\n",
       "    .dataframe thead th {\n",
       "        text-align: right;\n",
       "    }\n",
       "</style>\n",
       "<table border=\"1\" class=\"dataframe\">\n",
       "  <thead>\n",
       "    <tr style=\"text-align: right;\">\n",
       "      <th></th>\n",
       "      <th>구분</th>\n",
       "      <th>Killing</th>\n",
       "      <th>강도</th>\n",
       "      <th>강간-추행</th>\n",
       "      <th>절도</th>\n",
       "      <th>폭력</th>\n",
       "    </tr>\n",
       "  </thead>\n",
       "  <tbody>\n",
       "    <tr>\n",
       "      <th>0</th>\n",
       "      <td>중부</td>\n",
       "      <td>1.0</td>\n",
       "      <td>1.0</td>\n",
       "      <td>NaN</td>\n",
       "      <td>37</td>\n",
       "      <td>29</td>\n",
       "    </tr>\n",
       "    <tr>\n",
       "      <th>1</th>\n",
       "      <td>종로</td>\n",
       "      <td>NaN</td>\n",
       "      <td>NaN</td>\n",
       "      <td>4.0</td>\n",
       "      <td>4</td>\n",
       "      <td>14</td>\n",
       "    </tr>\n",
       "    <tr>\n",
       "      <th>2</th>\n",
       "      <td>남대문</td>\n",
       "      <td>NaN</td>\n",
       "      <td>NaN</td>\n",
       "      <td>1.0</td>\n",
       "      <td>10</td>\n",
       "      <td>2</td>\n",
       "    </tr>\n",
       "    <tr>\n",
       "      <th>3</th>\n",
       "      <td>서대문</td>\n",
       "      <td>NaN</td>\n",
       "      <td>NaN</td>\n",
       "      <td>6.0</td>\n",
       "      <td>64</td>\n",
       "      <td>66</td>\n",
       "    </tr>\n",
       "    <tr>\n",
       "      <th>4</th>\n",
       "      <td>혜화</td>\n",
       "      <td>NaN</td>\n",
       "      <td>NaN</td>\n",
       "      <td>NaN</td>\n",
       "      <td>13</td>\n",
       "      <td>4</td>\n",
       "    </tr>\n",
       "    <tr>\n",
       "      <th>5</th>\n",
       "      <td>용산</td>\n",
       "      <td>NaN</td>\n",
       "      <td>NaN</td>\n",
       "      <td>NaN</td>\n",
       "      <td>52</td>\n",
       "      <td>20</td>\n",
       "    </tr>\n",
       "    <tr>\n",
       "      <th>6</th>\n",
       "      <td>성북</td>\n",
       "      <td>NaN</td>\n",
       "      <td>NaN</td>\n",
       "      <td>3.0</td>\n",
       "      <td>22</td>\n",
       "      <td>69</td>\n",
       "    </tr>\n",
       "    <tr>\n",
       "      <th>7</th>\n",
       "      <td>동대문</td>\n",
       "      <td>NaN</td>\n",
       "      <td>7.0</td>\n",
       "      <td>7.0</td>\n",
       "      <td>30</td>\n",
       "      <td>70</td>\n",
       "    </tr>\n",
       "    <tr>\n",
       "      <th>8</th>\n",
       "      <td>마포</td>\n",
       "      <td>NaN</td>\n",
       "      <td>2.0</td>\n",
       "      <td>11.0</td>\n",
       "      <td>72</td>\n",
       "      <td>85</td>\n",
       "    </tr>\n",
       "    <tr>\n",
       "      <th>9</th>\n",
       "      <td>영등포</td>\n",
       "      <td>NaN</td>\n",
       "      <td>5.0</td>\n",
       "      <td>2.0</td>\n",
       "      <td>62</td>\n",
       "      <td>52</td>\n",
       "    </tr>\n",
       "    <tr>\n",
       "      <th>10</th>\n",
       "      <td>성동</td>\n",
       "      <td>NaN</td>\n",
       "      <td>NaN</td>\n",
       "      <td>NaN</td>\n",
       "      <td>36</td>\n",
       "      <td>51</td>\n",
       "    </tr>\n",
       "    <tr>\n",
       "      <th>11</th>\n",
       "      <td>동작</td>\n",
       "      <td>NaN</td>\n",
       "      <td>NaN</td>\n",
       "      <td>2.0</td>\n",
       "      <td>67</td>\n",
       "      <td>72</td>\n",
       "    </tr>\n",
       "    <tr>\n",
       "      <th>12</th>\n",
       "      <td>광진</td>\n",
       "      <td>NaN</td>\n",
       "      <td>NaN</td>\n",
       "      <td>6.0</td>\n",
       "      <td>66</td>\n",
       "      <td>80</td>\n",
       "    </tr>\n",
       "    <tr>\n",
       "      <th>13</th>\n",
       "      <td>서부</td>\n",
       "      <td>NaN</td>\n",
       "      <td>NaN</td>\n",
       "      <td>5.0</td>\n",
       "      <td>45</td>\n",
       "      <td>58</td>\n",
       "    </tr>\n",
       "    <tr>\n",
       "      <th>14</th>\n",
       "      <td>강북</td>\n",
       "      <td>NaN</td>\n",
       "      <td>NaN</td>\n",
       "      <td>8.0</td>\n",
       "      <td>48</td>\n",
       "      <td>102</td>\n",
       "    </tr>\n",
       "    <tr>\n",
       "      <th>15</th>\n",
       "      <td>금천</td>\n",
       "      <td>NaN</td>\n",
       "      <td>3.0</td>\n",
       "      <td>3.0</td>\n",
       "      <td>57</td>\n",
       "      <td>24</td>\n",
       "    </tr>\n",
       "    <tr>\n",
       "      <th>16</th>\n",
       "      <td>중랑</td>\n",
       "      <td>NaN</td>\n",
       "      <td>2.0</td>\n",
       "      <td>5.0</td>\n",
       "      <td>60</td>\n",
       "      <td>94</td>\n",
       "    </tr>\n",
       "    <tr>\n",
       "      <th>17</th>\n",
       "      <td>강남</td>\n",
       "      <td>NaN</td>\n",
       "      <td>NaN</td>\n",
       "      <td>7.0</td>\n",
       "      <td>51</td>\n",
       "      <td>20</td>\n",
       "    </tr>\n",
       "    <tr>\n",
       "      <th>18</th>\n",
       "      <td>관악</td>\n",
       "      <td>NaN</td>\n",
       "      <td>NaN</td>\n",
       "      <td>12.0</td>\n",
       "      <td>77</td>\n",
       "      <td>96</td>\n",
       "    </tr>\n",
       "    <tr>\n",
       "      <th>19</th>\n",
       "      <td>강서</td>\n",
       "      <td>NaN</td>\n",
       "      <td>NaN</td>\n",
       "      <td>10.0</td>\n",
       "      <td>134</td>\n",
       "      <td>144</td>\n",
       "    </tr>\n",
       "    <tr>\n",
       "      <th>20</th>\n",
       "      <td>강동</td>\n",
       "      <td>NaN</td>\n",
       "      <td>8.0</td>\n",
       "      <td>5.0</td>\n",
       "      <td>121</td>\n",
       "      <td>105</td>\n",
       "    </tr>\n",
       "    <tr>\n",
       "      <th>21</th>\n",
       "      <td>종암</td>\n",
       "      <td>NaN</td>\n",
       "      <td>1.0</td>\n",
       "      <td>NaN</td>\n",
       "      <td>20</td>\n",
       "      <td>31</td>\n",
       "    </tr>\n",
       "    <tr>\n",
       "      <th>22</th>\n",
       "      <td>구로</td>\n",
       "      <td>NaN</td>\n",
       "      <td>NaN</td>\n",
       "      <td>9.0</td>\n",
       "      <td>48</td>\n",
       "      <td>95</td>\n",
       "    </tr>\n",
       "    <tr>\n",
       "      <th>23</th>\n",
       "      <td>서초</td>\n",
       "      <td>NaN</td>\n",
       "      <td>2.0</td>\n",
       "      <td>3.0</td>\n",
       "      <td>60</td>\n",
       "      <td>74</td>\n",
       "    </tr>\n",
       "    <tr>\n",
       "      <th>24</th>\n",
       "      <td>양천</td>\n",
       "      <td>NaN</td>\n",
       "      <td>NaN</td>\n",
       "      <td>9.0</td>\n",
       "      <td>88</td>\n",
       "      <td>94</td>\n",
       "    </tr>\n",
       "    <tr>\n",
       "      <th>25</th>\n",
       "      <td>송파</td>\n",
       "      <td>NaN</td>\n",
       "      <td>NaN</td>\n",
       "      <td>14.0</td>\n",
       "      <td>101</td>\n",
       "      <td>97</td>\n",
       "    </tr>\n",
       "    <tr>\n",
       "      <th>26</th>\n",
       "      <td>노원</td>\n",
       "      <td>NaN</td>\n",
       "      <td>NaN</td>\n",
       "      <td>15.0</td>\n",
       "      <td>62</td>\n",
       "      <td>102</td>\n",
       "    </tr>\n",
       "    <tr>\n",
       "      <th>27</th>\n",
       "      <td>방배</td>\n",
       "      <td>NaN</td>\n",
       "      <td>NaN</td>\n",
       "      <td>1.0</td>\n",
       "      <td>13</td>\n",
       "      <td>18</td>\n",
       "    </tr>\n",
       "    <tr>\n",
       "      <th>28</th>\n",
       "      <td>은평</td>\n",
       "      <td>NaN</td>\n",
       "      <td>NaN</td>\n",
       "      <td>6.0</td>\n",
       "      <td>62</td>\n",
       "      <td>90</td>\n",
       "    </tr>\n",
       "    <tr>\n",
       "      <th>29</th>\n",
       "      <td>도봉</td>\n",
       "      <td>NaN</td>\n",
       "      <td>NaN</td>\n",
       "      <td>6.0</td>\n",
       "      <td>39</td>\n",
       "      <td>39</td>\n",
       "    </tr>\n",
       "    <tr>\n",
       "      <th>30</th>\n",
       "      <td>수서</td>\n",
       "      <td>NaN</td>\n",
       "      <td>NaN</td>\n",
       "      <td>11.0</td>\n",
       "      <td>48</td>\n",
       "      <td>147</td>\n",
       "    </tr>\n",
       "  </tbody>\n",
       "</table>\n",
       "</div>"
      ],
      "text/plain": [
       "     구분  Killing   강도  강간-추행   절도   폭력\n",
       "0    중부      1.0  1.0    NaN   37   29\n",
       "1    종로      NaN  NaN    4.0    4   14\n",
       "2   남대문      NaN  NaN    1.0   10    2\n",
       "3   서대문      NaN  NaN    6.0   64   66\n",
       "4    혜화      NaN  NaN    NaN   13    4\n",
       "5    용산      NaN  NaN    NaN   52   20\n",
       "6    성북      NaN  NaN    3.0   22   69\n",
       "7   동대문      NaN  7.0    7.0   30   70\n",
       "8    마포      NaN  2.0   11.0   72   85\n",
       "9   영등포      NaN  5.0    2.0   62   52\n",
       "10   성동      NaN  NaN    NaN   36   51\n",
       "11   동작      NaN  NaN    2.0   67   72\n",
       "12   광진      NaN  NaN    6.0   66   80\n",
       "13   서부      NaN  NaN    5.0   45   58\n",
       "14   강북      NaN  NaN    8.0   48  102\n",
       "15   금천      NaN  3.0    3.0   57   24\n",
       "16   중랑      NaN  2.0    5.0   60   94\n",
       "17   강남      NaN  NaN    7.0   51   20\n",
       "18   관악      NaN  NaN   12.0   77   96\n",
       "19   강서      NaN  NaN   10.0  134  144\n",
       "20   강동      NaN  8.0    5.0  121  105\n",
       "21   종암      NaN  1.0    NaN   20   31\n",
       "22   구로      NaN  NaN    9.0   48   95\n",
       "23   서초      NaN  2.0    3.0   60   74\n",
       "24   양천      NaN  NaN    9.0   88   94\n",
       "25   송파      NaN  NaN   14.0  101   97\n",
       "26   노원      NaN  NaN   15.0   62  102\n",
       "27   방배      NaN  NaN    1.0   13   18\n",
       "28   은평      NaN  NaN    6.0   62   90\n",
       "29   도봉      NaN  NaN    6.0   39   39\n",
       "30   수서      NaN  NaN   11.0   48  147"
      ]
     },
     "execution_count": 46,
     "metadata": {},
     "output_type": "execute_result"
    }
   ],
   "source": [
    "cc2"
   ]
  },
  {
   "cell_type": "code",
   "execution_count": 47,
   "id": "4fc65fe5-d1ba-4039-851b-9ec30a943e34",
   "metadata": {},
   "outputs": [
    {
     "data": {
      "text/html": [
       "<div>\n",
       "<style scoped>\n",
       "    .dataframe tbody tr th:only-of-type {\n",
       "        vertical-align: middle;\n",
       "    }\n",
       "\n",
       "    .dataframe tbody tr th {\n",
       "        vertical-align: top;\n",
       "    }\n",
       "\n",
       "    .dataframe thead th {\n",
       "        text-align: right;\n",
       "    }\n",
       "</style>\n",
       "<table border=\"1\" class=\"dataframe\">\n",
       "  <thead>\n",
       "    <tr style=\"text-align: right;\">\n",
       "      <th></th>\n",
       "      <th>이름</th>\n",
       "      <th>성별</th>\n",
       "      <th>나이</th>\n",
       "      <th>키</th>\n",
       "      <th>몸무게</th>\n",
       "    </tr>\n",
       "  </thead>\n",
       "  <tbody>\n",
       "    <tr>\n",
       "      <th>0</th>\n",
       "      <td>김상봉</td>\n",
       "      <td>남</td>\n",
       "      <td>56</td>\n",
       "      <td>171</td>\n",
       "      <td>78</td>\n",
       "    </tr>\n",
       "    <tr>\n",
       "      <th>1</th>\n",
       "      <td>이인자</td>\n",
       "      <td>여</td>\n",
       "      <td>34</td>\n",
       "      <td>156</td>\n",
       "      <td>45</td>\n",
       "    </tr>\n",
       "    <tr>\n",
       "      <th>2</th>\n",
       "      <td>박상남</td>\n",
       "      <td>남</td>\n",
       "      <td>70</td>\n",
       "      <td>163</td>\n",
       "      <td>65</td>\n",
       "    </tr>\n",
       "  </tbody>\n",
       "</table>\n",
       "</div>"
      ],
      "text/plain": [
       "    이름 성별  나이    키  몸무게\n",
       "0  김상봉  남  56  171   78\n",
       "1  이인자  여  34  156   45\n",
       "2  박상남  남  70  163   65"
      ]
     },
     "execution_count": 47,
     "metadata": {},
     "output_type": "execute_result"
    }
   ],
   "source": [
    "saram"
   ]
  },
  {
   "cell_type": "code",
   "execution_count": 48,
   "id": "39a59809-33f2-48fb-b6a4-391de01c6051",
   "metadata": {},
   "outputs": [],
   "source": [
    "saram['mbti'] = (['ENFP','INTJ','ISFP'])"
   ]
  },
  {
   "cell_type": "code",
   "execution_count": 49,
   "id": "fd989c0c-3131-4132-a17c-f8d3fc255861",
   "metadata": {},
   "outputs": [
    {
     "data": {
      "text/html": [
       "<div>\n",
       "<style scoped>\n",
       "    .dataframe tbody tr th:only-of-type {\n",
       "        vertical-align: middle;\n",
       "    }\n",
       "\n",
       "    .dataframe tbody tr th {\n",
       "        vertical-align: top;\n",
       "    }\n",
       "\n",
       "    .dataframe thead th {\n",
       "        text-align: right;\n",
       "    }\n",
       "</style>\n",
       "<table border=\"1\" class=\"dataframe\">\n",
       "  <thead>\n",
       "    <tr style=\"text-align: right;\">\n",
       "      <th></th>\n",
       "      <th>이름</th>\n",
       "      <th>성별</th>\n",
       "      <th>나이</th>\n",
       "      <th>키</th>\n",
       "      <th>몸무게</th>\n",
       "      <th>mbti</th>\n",
       "    </tr>\n",
       "  </thead>\n",
       "  <tbody>\n",
       "    <tr>\n",
       "      <th>0</th>\n",
       "      <td>김상봉</td>\n",
       "      <td>남</td>\n",
       "      <td>56</td>\n",
       "      <td>171</td>\n",
       "      <td>78</td>\n",
       "      <td>ENFP</td>\n",
       "    </tr>\n",
       "    <tr>\n",
       "      <th>1</th>\n",
       "      <td>이인자</td>\n",
       "      <td>여</td>\n",
       "      <td>34</td>\n",
       "      <td>156</td>\n",
       "      <td>45</td>\n",
       "      <td>INTJ</td>\n",
       "    </tr>\n",
       "    <tr>\n",
       "      <th>2</th>\n",
       "      <td>박상남</td>\n",
       "      <td>남</td>\n",
       "      <td>70</td>\n",
       "      <td>163</td>\n",
       "      <td>65</td>\n",
       "      <td>ISFP</td>\n",
       "    </tr>\n",
       "  </tbody>\n",
       "</table>\n",
       "</div>"
      ],
      "text/plain": [
       "    이름 성별  나이    키  몸무게  mbti\n",
       "0  김상봉  남  56  171   78  ENFP\n",
       "1  이인자  여  34  156   45  INTJ\n",
       "2  박상남  남  70  163   65  ISFP"
      ]
     },
     "execution_count": 49,
     "metadata": {},
     "output_type": "execute_result"
    }
   ],
   "source": [
    "saram"
   ]
  },
  {
   "cell_type": "code",
   "execution_count": 51,
   "id": "009781f5-dc04-485b-9490-5739beaba330",
   "metadata": {},
   "outputs": [
    {
     "data": {
      "text/plain": [
       "<AxesSubplot:ylabel='Frequency'>"
      ]
     },
     "execution_count": 51,
     "metadata": {},
     "output_type": "execute_result"
    },
    {
     "data": {
      "image/png": "[encoded data removed]",
      "text/plain": [
       "<Figure size 640x480 with 1 Axes>"
      ]
     },
     "metadata": {},
     "output_type": "display_data"
    }
   ],
   "source": [
    "saram['키'].plot.hist()"
   ]
  },
  {
   "cell_type": "code",
   "execution_count": 59,
   "id": "52af06b7-3252-4cbb-8a00-b4d4c8766706",
   "metadata": {},
   "outputs": [],
   "source": [
    "import numpy as np"
   ]
  },
  {
   "cell_type": "code",
   "execution_count": 60,
   "id": "9e769d77-391e-4e4d-a011-3f05b46ccef0",
   "metadata": {},
   "outputs": [
    {
     "data": {
      "text/html": [
       "<div>\n",
       "<style scoped>\n",
       "    .dataframe tbody tr th:only-of-type {\n",
       "        vertical-align: middle;\n",
       "    }\n",
       "\n",
       "    .dataframe tbody tr th {\n",
       "        vertical-align: top;\n",
       "    }\n",
       "\n",
       "    .dataframe thead th {\n",
       "        text-align: right;\n",
       "    }\n",
       "</style>\n",
       "<table border=\"1\" class=\"dataframe\">\n",
       "  <thead>\n",
       "    <tr style=\"text-align: right;\">\n",
       "      <th></th>\n",
       "      <th>이름</th>\n",
       "      <th>성별</th>\n",
       "      <th>나이</th>\n",
       "      <th>키</th>\n",
       "      <th>몸무게</th>\n",
       "      <th>mbti</th>\n",
       "    </tr>\n",
       "  </thead>\n",
       "  <tbody>\n",
       "    <tr>\n",
       "      <th>0</th>\n",
       "      <td>김상봉</td>\n",
       "      <td>남</td>\n",
       "      <td>56</td>\n",
       "      <td>over170</td>\n",
       "      <td>78</td>\n",
       "      <td>ENFP</td>\n",
       "    </tr>\n",
       "    <tr>\n",
       "      <th>1</th>\n",
       "      <td>이인자</td>\n",
       "      <td>여</td>\n",
       "      <td>34</td>\n",
       "      <td>under170</td>\n",
       "      <td>45</td>\n",
       "      <td>INTJ</td>\n",
       "    </tr>\n",
       "    <tr>\n",
       "      <th>2</th>\n",
       "      <td>박상남</td>\n",
       "      <td>남</td>\n",
       "      <td>70</td>\n",
       "      <td>under170</td>\n",
       "      <td>65</td>\n",
       "      <td>ISFP</td>\n",
       "    </tr>\n",
       "  </tbody>\n",
       "</table>\n",
       "</div>"
      ],
      "text/plain": [
       "    이름 성별  나이         키  몸무게  mbti\n",
       "0  김상봉  남  56   over170   78  ENFP\n",
       "1  이인자  여  34  under170   45  INTJ\n",
       "2  박상남  남  70  under170   65  ISFP"
      ]
     },
     "execution_count": 60,
     "metadata": {},
     "output_type": "execute_result"
    }
   ],
   "source": [
    "saram"
   ]
  },
  {
   "cell_type": "code",
   "execution_count": 61,
   "id": "d34569dc-df68-4880-bcd5-16667305e89f",
   "metadata": {},
   "outputs": [
    {
     "data": {
      "text/plain": [
       "under170    2\n",
       "over170     1\n",
       "Name: 키, dtype: int64"
      ]
     },
     "execution_count": 61,
     "metadata": {},
     "output_type": "execute_result"
    }
   ],
   "source": [
    "saram['키'].value_counts()"
   ]
  },
  {
   "cell_type": "code",
   "execution_count": 62,
   "id": "26198187-4fb2-4a3d-a018-d8bf022aab67",
   "metadata": {},
   "outputs": [
    {
     "data": {
      "text/plain": [
       "<AxesSubplot:>"
      ]
     },
     "execution_count": 62,
     "metadata": {},
     "output_type": "execute_result"
    },
    {
     "data": {
      "image/png": "[encoded data removed]",
      "text/plain": [
       "<Figure size 640x480 with 1 Axes>"
      ]
     },
     "metadata": {},
     "output_type": "display_data"
    }
   ],
   "source": [
    "saram['키'].value_counts().plot.bar(rot=0)"
   ]
  },
  {
   "cell_type": "code",
   "execution_count": 63,
   "id": "a5d54c0d-98c0-4714-80c9-35a9b02373aa",
   "metadata": {},
   "outputs": [
    {
     "data": {
      "text/html": [
       "<div>\n",
       "<style scoped>\n",
       "    .dataframe tbody tr th:only-of-type {\n",
       "        vertical-align: middle;\n",
       "    }\n",
       "\n",
       "    .dataframe tbody tr th {\n",
       "        vertical-align: top;\n",
       "    }\n",
       "\n",
       "    .dataframe thead th {\n",
       "        text-align: right;\n",
       "    }\n",
       "</style>\n",
       "<table border=\"1\" class=\"dataframe\">\n",
       "  <thead>\n",
       "    <tr style=\"text-align: right;\">\n",
       "      <th></th>\n",
       "      <th>이름</th>\n",
       "      <th>성별</th>\n",
       "      <th>나이</th>\n",
       "      <th>키</th>\n",
       "      <th>몸무게</th>\n",
       "      <th>mbti</th>\n",
       "    </tr>\n",
       "  </thead>\n",
       "  <tbody>\n",
       "    <tr>\n",
       "      <th>0</th>\n",
       "      <td>김상봉</td>\n",
       "      <td>남</td>\n",
       "      <td>56</td>\n",
       "      <td>over170</td>\n",
       "      <td>78</td>\n",
       "      <td>ENFP</td>\n",
       "    </tr>\n",
       "  </tbody>\n",
       "</table>\n",
       "</div>"
      ],
      "text/plain": [
       "    이름 성별  나이        키  몸무게  mbti\n",
       "0  김상봉  남  56  over170   78  ENFP"
      ]
     },
     "execution_count": 63,
     "metadata": {},
     "output_type": "execute_result"
    }
   ],
   "source": [
    "saram.query('키 == \"over170\"')"
   ]
  },
  {
   "cell_type": "code",
   "execution_count": 72,
   "id": "f9935b8d-0056-49f2-be10-21387d96080b",
   "metadata": {},
   "outputs": [
    {
     "data": {
      "text/html": [
       "<div>\n",
       "<style scoped>\n",
       "    .dataframe tbody tr th:only-of-type {\n",
       "        vertical-align: middle;\n",
       "    }\n",
       "\n",
       "    .dataframe tbody tr th {\n",
       "        vertical-align: top;\n",
       "    }\n",
       "\n",
       "    .dataframe thead th {\n",
       "        text-align: right;\n",
       "    }\n",
       "</style>\n",
       "<table border=\"1\" class=\"dataframe\">\n",
       "  <thead>\n",
       "    <tr style=\"text-align: right;\">\n",
       "      <th></th>\n",
       "      <th>이름</th>\n",
       "      <th>몸무게</th>\n",
       "    </tr>\n",
       "  </thead>\n",
       "  <tbody>\n",
       "    <tr>\n",
       "      <th>0</th>\n",
       "      <td>김상봉</td>\n",
       "      <td>78</td>\n",
       "    </tr>\n",
       "    <tr>\n",
       "      <th>1</th>\n",
       "      <td>이인자</td>\n",
       "      <td>45</td>\n",
       "    </tr>\n",
       "    <tr>\n",
       "      <th>2</th>\n",
       "      <td>박상남</td>\n",
       "      <td>65</td>\n",
       "    </tr>\n",
       "  </tbody>\n",
       "</table>\n",
       "</div>"
      ],
      "text/plain": [
       "    이름  몸무게\n",
       "0  김상봉   78\n",
       "1  이인자   45\n",
       "2  박상남   65"
      ]
     },
     "execution_count": 72,
     "metadata": {},
     "output_type": "execute_result"
    }
   ],
   "source": [
    "saram[['이름','몸무게']]"
   ]
  },
  {
   "cell_type": "code",
   "execution_count": 78,
   "id": "537e4b11-ab97-4b65-8e2b-7e942b982f6c",
   "metadata": {},
   "outputs": [],
   "source": [
    "saram3 = saram.drop(columns = '키')"
   ]
  },
  {
   "cell_type": "code",
   "execution_count": 80,
   "id": "82777913-17a5-475b-b2c7-ac69ed37a729",
   "metadata": {},
   "outputs": [
    {
     "data": {
      "text/html": [
       "<div>\n",
       "<style scoped>\n",
       "    .dataframe tbody tr th:only-of-type {\n",
       "        vertical-align: middle;\n",
       "    }\n",
       "\n",
       "    .dataframe tbody tr th {\n",
       "        vertical-align: top;\n",
       "    }\n",
       "\n",
       "    .dataframe thead th {\n",
       "        text-align: right;\n",
       "    }\n",
       "</style>\n",
       "<table border=\"1\" class=\"dataframe\">\n",
       "  <thead>\n",
       "    <tr style=\"text-align: right;\">\n",
       "      <th></th>\n",
       "      <th>이름</th>\n",
       "      <th>성별</th>\n",
       "      <th>나이</th>\n",
       "      <th>몸무게</th>\n",
       "      <th>mbti</th>\n",
       "    </tr>\n",
       "  </thead>\n",
       "  <tbody>\n",
       "    <tr>\n",
       "      <th>2</th>\n",
       "      <td>박상남</td>\n",
       "      <td>남</td>\n",
       "      <td>70</td>\n",
       "      <td>65</td>\n",
       "      <td>ISFP</td>\n",
       "    </tr>\n",
       "    <tr>\n",
       "      <th>0</th>\n",
       "      <td>김상봉</td>\n",
       "      <td>남</td>\n",
       "      <td>56</td>\n",
       "      <td>78</td>\n",
       "      <td>ENFP</td>\n",
       "    </tr>\n",
       "    <tr>\n",
       "      <th>1</th>\n",
       "      <td>이인자</td>\n",
       "      <td>여</td>\n",
       "      <td>34</td>\n",
       "      <td>45</td>\n",
       "      <td>INTJ</td>\n",
       "    </tr>\n",
       "  </tbody>\n",
       "</table>\n",
       "</div>"
      ],
      "text/plain": [
       "    이름 성별  나이  몸무게  mbti\n",
       "2  박상남  남  70   65  ISFP\n",
       "0  김상봉  남  56   78  ENFP\n",
       "1  이인자  여  34   45  INTJ"
      ]
     },
     "execution_count": 80,
     "metadata": {},
     "output_type": "execute_result"
    }
   ],
   "source": [
    "saram3.sort_values('나이', ascending = False)"
   ]
  },
  {
   "cell_type": "code",
   "execution_count": 79,
   "id": "abb2f8b8-57c3-4eb5-956c-5a4b5f248f1e",
   "metadata": {},
   "outputs": [
    {
     "data": {
      "text/html": [
       "<div>\n",
       "<style scoped>\n",
       "    .dataframe tbody tr th:only-of-type {\n",
       "        vertical-align: middle;\n",
       "    }\n",
       "\n",
       "    .dataframe tbody tr th {\n",
       "        vertical-align: top;\n",
       "    }\n",
       "\n",
       "    .dataframe thead th {\n",
       "        text-align: right;\n",
       "    }\n",
       "</style>\n",
       "<table border=\"1\" class=\"dataframe\">\n",
       "  <thead>\n",
       "    <tr style=\"text-align: right;\">\n",
       "      <th></th>\n",
       "      <th>이름</th>\n",
       "      <th>성별</th>\n",
       "      <th>나이</th>\n",
       "      <th>몸무게</th>\n",
       "      <th>mbti</th>\n",
       "    </tr>\n",
       "  </thead>\n",
       "  <tbody>\n",
       "    <tr>\n",
       "      <th>0</th>\n",
       "      <td>김상봉</td>\n",
       "      <td>남</td>\n",
       "      <td>56</td>\n",
       "      <td>78</td>\n",
       "      <td>ENFP</td>\n",
       "    </tr>\n",
       "    <tr>\n",
       "      <th>1</th>\n",
       "      <td>이인자</td>\n",
       "      <td>여</td>\n",
       "      <td>34</td>\n",
       "      <td>45</td>\n",
       "      <td>INTJ</td>\n",
       "    </tr>\n",
       "    <tr>\n",
       "      <th>2</th>\n",
       "      <td>박상남</td>\n",
       "      <td>남</td>\n",
       "      <td>70</td>\n",
       "      <td>65</td>\n",
       "      <td>ISFP</td>\n",
       "    </tr>\n",
       "  </tbody>\n",
       "</table>\n",
       "</div>"
      ],
      "text/plain": [
       "    이름 성별  나이  몸무게  mbti\n",
       "0  김상봉  남  56   78  ENFP\n",
       "1  이인자  여  34   45  INTJ\n",
       "2  박상남  남  70   65  ISFP"
      ]
     },
     "execution_count": 79,
     "metadata": {},
     "output_type": "execute_result"
    }
   ],
   "source": [
    "saram3"
   ]
  },
  {
   "cell_type": "code",
   "execution_count": 91,
   "id": "5a7b5b54-bd89-4bb7-acb4-f7d75ac327cb",
   "metadata": {},
   "outputs": [],
   "source": [
    "saram4 = saram3.assign(키= [170,165,153])"
   ]
  },
  {
   "cell_type": "code",
   "execution_count": 92,
   "id": "cc58e625-0420-4e82-a32a-2ad516440010",
   "metadata": {},
   "outputs": [
    {
     "data": {
      "text/html": [
       "<div>\n",
       "<style scoped>\n",
       "    .dataframe tbody tr th:only-of-type {\n",
       "        vertical-align: middle;\n",
       "    }\n",
       "\n",
       "    .dataframe tbody tr th {\n",
       "        vertical-align: top;\n",
       "    }\n",
       "\n",
       "    .dataframe thead th {\n",
       "        text-align: right;\n",
       "    }\n",
       "</style>\n",
       "<table border=\"1\" class=\"dataframe\">\n",
       "  <thead>\n",
       "    <tr style=\"text-align: right;\">\n",
       "      <th></th>\n",
       "      <th>키</th>\n",
       "    </tr>\n",
       "  </thead>\n",
       "  <tbody>\n",
       "    <tr>\n",
       "      <th>키_평균</th>\n",
       "      <td>162.666667</td>\n",
       "    </tr>\n",
       "  </tbody>\n",
       "</table>\n",
       "</div>"
      ],
      "text/plain": [
       "               키\n",
       "키_평균  162.666667"
      ]
     },
     "execution_count": 92,
     "metadata": {},
     "output_type": "execute_result"
    }
   ],
   "source": [
    "saram4.agg(키_평균=('키','mean'))"
   ]
  },
  {
   "cell_type": "code",
   "execution_count": 117,
   "id": "55894e13-4177-48d5-a915-928422f5418d",
   "metadata": {},
   "outputs": [],
   "source": [
    "saramx = pd.DataFrame({'이름':['김상봉','박상남','김유신'],\n",
    "                      '성별':['남','남','여'],\n",
    "                      '나이':[56,70,86],\n",
    "                      '키':[171,163,192],\n",
    "                      '몸무게':[78,65,78]})"
   ]
  },
  {
   "cell_type": "code",
   "execution_count": 118,
   "id": "432483d4-ae14-400f-8103-6027be3caca3",
   "metadata": {},
   "outputs": [
    {
     "data": {
      "text/html": [
       "<div>\n",
       "<style scoped>\n",
       "    .dataframe tbody tr th:only-of-type {\n",
       "        vertical-align: middle;\n",
       "    }\n",
       "\n",
       "    .dataframe tbody tr th {\n",
       "        vertical-align: top;\n",
       "    }\n",
       "\n",
       "    .dataframe thead th {\n",
       "        text-align: right;\n",
       "    }\n",
       "</style>\n",
       "<table border=\"1\" class=\"dataframe\">\n",
       "  <thead>\n",
       "    <tr style=\"text-align: right;\">\n",
       "      <th></th>\n",
       "      <th>이름</th>\n",
       "      <th>성별</th>\n",
       "      <th>나이</th>\n",
       "      <th>키</th>\n",
       "      <th>몸무게</th>\n",
       "    </tr>\n",
       "  </thead>\n",
       "  <tbody>\n",
       "    <tr>\n",
       "      <th>0</th>\n",
       "      <td>김상봉</td>\n",
       "      <td>남</td>\n",
       "      <td>56</td>\n",
       "      <td>171</td>\n",
       "      <td>78</td>\n",
       "    </tr>\n",
       "    <tr>\n",
       "      <th>1</th>\n",
       "      <td>박상남</td>\n",
       "      <td>남</td>\n",
       "      <td>70</td>\n",
       "      <td>163</td>\n",
       "      <td>65</td>\n",
       "    </tr>\n",
       "    <tr>\n",
       "      <th>2</th>\n",
       "      <td>김유신</td>\n",
       "      <td>여</td>\n",
       "      <td>86</td>\n",
       "      <td>192</td>\n",
       "      <td>78</td>\n",
       "    </tr>\n",
       "  </tbody>\n",
       "</table>\n",
       "</div>"
      ],
      "text/plain": [
       "    이름 성별  나이    키  몸무게\n",
       "0  김상봉  남  56  171   78\n",
       "1  박상남  남  70  163   65\n",
       "2  김유신  여  86  192   78"
      ]
     },
     "execution_count": 118,
     "metadata": {},
     "output_type": "execute_result"
    }
   ],
   "source": [
    "saramx"
   ]
  },
  {
   "cell_type": "code",
   "execution_count": 109,
   "id": "d10131d9-5bdc-4faa-9a82-97d8e42fe5b8",
   "metadata": {},
   "outputs": [
    {
     "data": {
      "text/html": [
       "<div>\n",
       "<style scoped>\n",
       "    .dataframe tbody tr th:only-of-type {\n",
       "        vertical-align: middle;\n",
       "    }\n",
       "\n",
       "    .dataframe tbody tr th {\n",
       "        vertical-align: top;\n",
       "    }\n",
       "\n",
       "    .dataframe thead th {\n",
       "        text-align: right;\n",
       "    }\n",
       "</style>\n",
       "<table border=\"1\" class=\"dataframe\">\n",
       "  <thead>\n",
       "    <tr style=\"text-align: right;\">\n",
       "      <th></th>\n",
       "      <th>이름</th>\n",
       "      <th>성별</th>\n",
       "      <th>나이</th>\n",
       "      <th>키</th>\n",
       "      <th>몸무게</th>\n",
       "      <th>mbti</th>\n",
       "      <th>이름</th>\n",
       "      <th>성별</th>\n",
       "      <th>나이</th>\n",
       "      <th>키</th>\n",
       "      <th>몸무게</th>\n",
       "    </tr>\n",
       "  </thead>\n",
       "  <tbody>\n",
       "    <tr>\n",
       "      <th>0</th>\n",
       "      <td>김상봉</td>\n",
       "      <td>남</td>\n",
       "      <td>56</td>\n",
       "      <td>over170</td>\n",
       "      <td>78</td>\n",
       "      <td>ENFP</td>\n",
       "      <td>김상봉</td>\n",
       "      <td>남</td>\n",
       "      <td>56</td>\n",
       "      <td>171</td>\n",
       "      <td>78</td>\n",
       "    </tr>\n",
       "    <tr>\n",
       "      <th>1</th>\n",
       "      <td>이인자</td>\n",
       "      <td>여</td>\n",
       "      <td>34</td>\n",
       "      <td>under170</td>\n",
       "      <td>45</td>\n",
       "      <td>INTJ</td>\n",
       "      <td>박상남</td>\n",
       "      <td>남</td>\n",
       "      <td>70</td>\n",
       "      <td>163</td>\n",
       "      <td>65</td>\n",
       "    </tr>\n",
       "    <tr>\n",
       "      <th>2</th>\n",
       "      <td>박상남</td>\n",
       "      <td>남</td>\n",
       "      <td>70</td>\n",
       "      <td>under170</td>\n",
       "      <td>65</td>\n",
       "      <td>ISFP</td>\n",
       "      <td>김유신</td>\n",
       "      <td>여</td>\n",
       "      <td>86</td>\n",
       "      <td>192</td>\n",
       "      <td>78</td>\n",
       "    </tr>\n",
       "  </tbody>\n",
       "</table>\n",
       "</div>"
      ],
      "text/plain": [
       "    이름 성별  나이         키  몸무게  mbti   이름 성별  나이    키  몸무게\n",
       "0  김상봉  남  56   over170   78  ENFP  김상봉  남  56  171   78\n",
       "1  이인자  여  34  under170   45  INTJ  박상남  남  70  163   65\n",
       "2  박상남  남  70  under170   65  ISFP  김유신  여  86  192   78"
      ]
     },
     "execution_count": 109,
     "metadata": {},
     "output_type": "execute_result"
    }
   ],
   "source": [
    "pd.concat([saram,saramx],axis=1)"
   ]
  },
  {
   "cell_type": "code",
   "execution_count": 112,
   "id": "99cc3c68-5840-4b02-ab5a-59f6a779634d",
   "metadata": {},
   "outputs": [
    {
     "data": {
      "text/html": [
       "<div>\n",
       "<style scoped>\n",
       "    .dataframe tbody tr th:only-of-type {\n",
       "        vertical-align: middle;\n",
       "    }\n",
       "\n",
       "    .dataframe tbody tr th {\n",
       "        vertical-align: top;\n",
       "    }\n",
       "\n",
       "    .dataframe thead th {\n",
       "        text-align: right;\n",
       "    }\n",
       "</style>\n",
       "<table border=\"1\" class=\"dataframe\">\n",
       "  <thead>\n",
       "    <tr style=\"text-align: right;\">\n",
       "      <th></th>\n",
       "      <th>이름</th>\n",
       "      <th>성별_x</th>\n",
       "      <th>나이_x</th>\n",
       "      <th>키_x</th>\n",
       "      <th>몸무게_x</th>\n",
       "      <th>mbti</th>\n",
       "      <th>성별_y</th>\n",
       "      <th>나이_y</th>\n",
       "      <th>키_y</th>\n",
       "      <th>몸무게_y</th>\n",
       "    </tr>\n",
       "  </thead>\n",
       "  <tbody>\n",
       "    <tr>\n",
       "      <th>0</th>\n",
       "      <td>김상봉</td>\n",
       "      <td>남</td>\n",
       "      <td>56</td>\n",
       "      <td>over170</td>\n",
       "      <td>78</td>\n",
       "      <td>ENFP</td>\n",
       "      <td>남</td>\n",
       "      <td>56.0</td>\n",
       "      <td>171.0</td>\n",
       "      <td>78.0</td>\n",
       "    </tr>\n",
       "    <tr>\n",
       "      <th>1</th>\n",
       "      <td>이인자</td>\n",
       "      <td>여</td>\n",
       "      <td>34</td>\n",
       "      <td>under170</td>\n",
       "      <td>45</td>\n",
       "      <td>INTJ</td>\n",
       "      <td>NaN</td>\n",
       "      <td>NaN</td>\n",
       "      <td>NaN</td>\n",
       "      <td>NaN</td>\n",
       "    </tr>\n",
       "    <tr>\n",
       "      <th>2</th>\n",
       "      <td>박상남</td>\n",
       "      <td>남</td>\n",
       "      <td>70</td>\n",
       "      <td>under170</td>\n",
       "      <td>65</td>\n",
       "      <td>ISFP</td>\n",
       "      <td>남</td>\n",
       "      <td>70.0</td>\n",
       "      <td>163.0</td>\n",
       "      <td>65.0</td>\n",
       "    </tr>\n",
       "  </tbody>\n",
       "</table>\n",
       "</div>"
      ],
      "text/plain": [
       "    이름 성별_x  나이_x       키_x  몸무게_x  mbti 성별_y  나이_y    키_y  몸무게_y\n",
       "0  김상봉    남    56   over170     78  ENFP    남  56.0  171.0   78.0\n",
       "1  이인자    여    34  under170     45  INTJ  NaN   NaN    NaN    NaN\n",
       "2  박상남    남    70  under170     65  ISFP    남  70.0  163.0   65.0"
      ]
     },
     "execution_count": 112,
     "metadata": {},
     "output_type": "execute_result"
    }
   ],
   "source": [
    "pd.merge(saram,saramx,how= 'left', on = '이름')"
   ]
  },
  {
   "cell_type": "code",
   "execution_count": 113,
   "id": "d556586c-8023-488b-9f87-ad318b437568",
   "metadata": {},
   "outputs": [],
   "source": [
    "saram = pd.DataFrame({'이름':['김상봉','이인자','박상남'],\n",
    "                      '성별':['남','여','남'],\n",
    "                      '나이':[56,34,70],\n",
    "                      '키':[171,156,163],\n",
    "                      '몸무게':[78,45,65]})"
   ]
  },
  {
   "cell_type": "code",
   "execution_count": 114,
   "id": "d2fd557c-b84d-4eab-bc80-981103dc0b69",
   "metadata": {},
   "outputs": [
    {
     "data": {
      "text/html": [
       "<div>\n",
       "<style scoped>\n",
       "    .dataframe tbody tr th:only-of-type {\n",
       "        vertical-align: middle;\n",
       "    }\n",
       "\n",
       "    .dataframe tbody tr th {\n",
       "        vertical-align: top;\n",
       "    }\n",
       "\n",
       "    .dataframe thead th {\n",
       "        text-align: right;\n",
       "    }\n",
       "</style>\n",
       "<table border=\"1\" class=\"dataframe\">\n",
       "  <thead>\n",
       "    <tr style=\"text-align: right;\">\n",
       "      <th></th>\n",
       "      <th>이름</th>\n",
       "      <th>성별</th>\n",
       "      <th>나이</th>\n",
       "      <th>키</th>\n",
       "      <th>몸무게</th>\n",
       "    </tr>\n",
       "  </thead>\n",
       "  <tbody>\n",
       "    <tr>\n",
       "      <th>0</th>\n",
       "      <td>김상봉</td>\n",
       "      <td>남</td>\n",
       "      <td>56</td>\n",
       "      <td>171</td>\n",
       "      <td>78</td>\n",
       "    </tr>\n",
       "    <tr>\n",
       "      <th>1</th>\n",
       "      <td>이인자</td>\n",
       "      <td>여</td>\n",
       "      <td>34</td>\n",
       "      <td>156</td>\n",
       "      <td>45</td>\n",
       "    </tr>\n",
       "    <tr>\n",
       "      <th>2</th>\n",
       "      <td>박상남</td>\n",
       "      <td>남</td>\n",
       "      <td>70</td>\n",
       "      <td>163</td>\n",
       "      <td>65</td>\n",
       "    </tr>\n",
       "  </tbody>\n",
       "</table>\n",
       "</div>"
      ],
      "text/plain": [
       "    이름 성별  나이    키  몸무게\n",
       "0  김상봉  남  56  171   78\n",
       "1  이인자  여  34  156   45\n",
       "2  박상남  남  70  163   65"
      ]
     },
     "execution_count": 114,
     "metadata": {},
     "output_type": "execute_result"
    }
   ],
   "source": [
    "saram"
   ]
  },
  {
   "cell_type": "code",
   "execution_count": 122,
   "id": "95051d0f-db10-4ccc-90ab-d88f348af282",
   "metadata": {},
   "outputs": [
    {
     "data": {
      "text/html": [
       "<div>\n",
       "<style scoped>\n",
       "    .dataframe tbody tr th:only-of-type {\n",
       "        vertical-align: middle;\n",
       "    }\n",
       "\n",
       "    .dataframe tbody tr th {\n",
       "        vertical-align: top;\n",
       "    }\n",
       "\n",
       "    .dataframe thead th {\n",
       "        text-align: right;\n",
       "    }\n",
       "</style>\n",
       "<table border=\"1\" class=\"dataframe\">\n",
       "  <thead>\n",
       "    <tr style=\"text-align: right;\">\n",
       "      <th></th>\n",
       "      <th>이름</th>\n",
       "      <th>성별_x</th>\n",
       "      <th>나이_x</th>\n",
       "      <th>키_x</th>\n",
       "      <th>몸무게_x</th>\n",
       "      <th>성별_y</th>\n",
       "      <th>나이_y</th>\n",
       "      <th>키_y</th>\n",
       "      <th>몸무게_y</th>\n",
       "    </tr>\n",
       "  </thead>\n",
       "  <tbody>\n",
       "    <tr>\n",
       "      <th>0</th>\n",
       "      <td>김상봉</td>\n",
       "      <td>남</td>\n",
       "      <td>56.0</td>\n",
       "      <td>171.0</td>\n",
       "      <td>78.0</td>\n",
       "      <td>남</td>\n",
       "      <td>56</td>\n",
       "      <td>171</td>\n",
       "      <td>78</td>\n",
       "    </tr>\n",
       "    <tr>\n",
       "      <th>1</th>\n",
       "      <td>박상남</td>\n",
       "      <td>남</td>\n",
       "      <td>70.0</td>\n",
       "      <td>163.0</td>\n",
       "      <td>65.0</td>\n",
       "      <td>남</td>\n",
       "      <td>70</td>\n",
       "      <td>163</td>\n",
       "      <td>65</td>\n",
       "    </tr>\n",
       "    <tr>\n",
       "      <th>2</th>\n",
       "      <td>김유신</td>\n",
       "      <td>NaN</td>\n",
       "      <td>NaN</td>\n",
       "      <td>NaN</td>\n",
       "      <td>NaN</td>\n",
       "      <td>여</td>\n",
       "      <td>86</td>\n",
       "      <td>192</td>\n",
       "      <td>78</td>\n",
       "    </tr>\n",
       "  </tbody>\n",
       "</table>\n",
       "</div>"
      ],
      "text/plain": [
       "    이름 성별_x  나이_x    키_x  몸무게_x 성별_y  나이_y  키_y  몸무게_y\n",
       "0  김상봉    남  56.0  171.0   78.0    남    56  171     78\n",
       "1  박상남    남  70.0  163.0   65.0    남    70  163     65\n",
       "2  김유신  NaN   NaN    NaN    NaN    여    86  192     78"
      ]
     },
     "execution_count": 122,
     "metadata": {},
     "output_type": "execute_result"
    }
   ],
   "source": [
    "pd.merge(saram,saramx,how = 'right', on = '이름')"
   ]
  },
  {
   "cell_type": "code",
   "execution_count": null,
   "id": "b0b2ca5e-39ff-449b-80ec-479a0c054dbd",
   "metadata": {},
   "outputs": [],
   "source": []
  }
 ],
 "metadata": {
  "kernelspec": {
   "display_name": "Python 3 (ipykernel)",
   "language": "python",
   "name": "python3"
  },
  "language_info": {
   "codemirror_mode": {
    "name": "ipython",
    "version": 3
   },
   "file_extension": ".py",
   "mimetype": "text/x-python",
   "name": "python",
   "nbconvert_exporter": "python",
   "pygments_lexer": "ipython3",
   "version": "3.9.13"
  }
 },
 "nbformat": 4,
 "nbformat_minor": 5
}
